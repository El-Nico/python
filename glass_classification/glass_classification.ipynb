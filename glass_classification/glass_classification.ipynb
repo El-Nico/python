{
 "cells": [
  {
   "cell_type": "markdown",
   "id": "9d9aab6f",
   "metadata": {},
   "source": [
    "# PART 1 EDA\n",
    "\n",
    "Initial analysis of the data"
   ]
  },
  {
   "cell_type": "code",
   "execution_count": 287,
   "id": "b1edfc0d",
   "metadata": {},
   "outputs": [],
   "source": [
    "import pandas as pd"
   ]
  },
  {
   "cell_type": "code",
   "execution_count": 288,
   "id": "e397489c",
   "metadata": {},
   "outputs": [
    {
     "data": {
      "text/html": [
       "<div>\n",
       "<style scoped>\n",
       "    .dataframe tbody tr th:only-of-type {\n",
       "        vertical-align: middle;\n",
       "    }\n",
       "\n",
       "    .dataframe tbody tr th {\n",
       "        vertical-align: top;\n",
       "    }\n",
       "\n",
       "    .dataframe thead th {\n",
       "        text-align: right;\n",
       "    }\n",
       "</style>\n",
       "<table border=\"1\" class=\"dataframe\">\n",
       "  <thead>\n",
       "    <tr style=\"text-align: right;\">\n",
       "      <th></th>\n",
       "      <th>1</th>\n",
       "      <th>1.52101</th>\n",
       "      <th>13.64</th>\n",
       "      <th>4.49</th>\n",
       "      <th>1.10</th>\n",
       "      <th>71.78</th>\n",
       "      <th>0.06</th>\n",
       "      <th>8.75</th>\n",
       "      <th>0.00</th>\n",
       "      <th>0.00.1</th>\n",
       "      <th>1.1</th>\n",
       "    </tr>\n",
       "  </thead>\n",
       "  <tbody>\n",
       "    <tr>\n",
       "      <th>0</th>\n",
       "      <td>2</td>\n",
       "      <td>1.51761</td>\n",
       "      <td>13.89</td>\n",
       "      <td>3.60</td>\n",
       "      <td>1.36</td>\n",
       "      <td>72.73</td>\n",
       "      <td>0.48</td>\n",
       "      <td>7.83</td>\n",
       "      <td>0.0</td>\n",
       "      <td>0.00</td>\n",
       "      <td>1</td>\n",
       "    </tr>\n",
       "    <tr>\n",
       "      <th>1</th>\n",
       "      <td>3</td>\n",
       "      <td>1.51618</td>\n",
       "      <td>13.53</td>\n",
       "      <td>3.55</td>\n",
       "      <td>1.54</td>\n",
       "      <td>72.99</td>\n",
       "      <td>0.39</td>\n",
       "      <td>7.78</td>\n",
       "      <td>0.0</td>\n",
       "      <td>0.00</td>\n",
       "      <td>1</td>\n",
       "    </tr>\n",
       "    <tr>\n",
       "      <th>2</th>\n",
       "      <td>4</td>\n",
       "      <td>1.51766</td>\n",
       "      <td>13.21</td>\n",
       "      <td>3.69</td>\n",
       "      <td>1.29</td>\n",
       "      <td>72.61</td>\n",
       "      <td>0.57</td>\n",
       "      <td>8.22</td>\n",
       "      <td>0.0</td>\n",
       "      <td>0.00</td>\n",
       "      <td>1</td>\n",
       "    </tr>\n",
       "    <tr>\n",
       "      <th>3</th>\n",
       "      <td>5</td>\n",
       "      <td>1.51742</td>\n",
       "      <td>13.27</td>\n",
       "      <td>3.62</td>\n",
       "      <td>1.24</td>\n",
       "      <td>73.08</td>\n",
       "      <td>0.55</td>\n",
       "      <td>8.07</td>\n",
       "      <td>0.0</td>\n",
       "      <td>0.00</td>\n",
       "      <td>1</td>\n",
       "    </tr>\n",
       "    <tr>\n",
       "      <th>4</th>\n",
       "      <td>6</td>\n",
       "      <td>1.51596</td>\n",
       "      <td>12.79</td>\n",
       "      <td>3.61</td>\n",
       "      <td>1.62</td>\n",
       "      <td>72.97</td>\n",
       "      <td>0.64</td>\n",
       "      <td>8.07</td>\n",
       "      <td>0.0</td>\n",
       "      <td>0.26</td>\n",
       "      <td>1</td>\n",
       "    </tr>\n",
       "  </tbody>\n",
       "</table>\n",
       "</div>"
      ],
      "text/plain": [
       "   1  1.52101  13.64  4.49  1.10  71.78  0.06  8.75  0.00  0.00.1  1.1\n",
       "0  2  1.51761  13.89  3.60  1.36  72.73  0.48  7.83   0.0    0.00    1\n",
       "1  3  1.51618  13.53  3.55  1.54  72.99  0.39  7.78   0.0    0.00    1\n",
       "2  4  1.51766  13.21  3.69  1.29  72.61  0.57  8.22   0.0    0.00    1\n",
       "3  5  1.51742  13.27  3.62  1.24  73.08  0.55  8.07   0.0    0.00    1\n",
       "4  6  1.51596  12.79  3.61  1.62  72.97  0.64  8.07   0.0    0.26    1"
      ]
     },
     "execution_count": 288,
     "metadata": {},
     "output_type": "execute_result"
    }
   ],
   "source": [
    "df = pd.read_csv(\"glass_data.csv\")\n",
    "df.head()"
   ]
  },
  {
   "cell_type": "code",
   "execution_count": 289,
   "id": "844a2d2f",
   "metadata": {},
   "outputs": [
    {
     "data": {
      "text/html": [
       "<div>\n",
       "<style scoped>\n",
       "    .dataframe tbody tr th:only-of-type {\n",
       "        vertical-align: middle;\n",
       "    }\n",
       "\n",
       "    .dataframe tbody tr th {\n",
       "        vertical-align: top;\n",
       "    }\n",
       "\n",
       "    .dataframe thead th {\n",
       "        text-align: right;\n",
       "    }\n",
       "</style>\n",
       "<table border=\"1\" class=\"dataframe\">\n",
       "  <thead>\n",
       "    <tr style=\"text-align: right;\">\n",
       "      <th></th>\n",
       "      <th>1.52101</th>\n",
       "      <th>13.64</th>\n",
       "      <th>4.49</th>\n",
       "      <th>1.10</th>\n",
       "      <th>71.78</th>\n",
       "      <th>0.06</th>\n",
       "      <th>8.75</th>\n",
       "      <th>0.00</th>\n",
       "      <th>0.00.1</th>\n",
       "      <th>1.1</th>\n",
       "    </tr>\n",
       "  </thead>\n",
       "  <tbody>\n",
       "    <tr>\n",
       "      <th>0</th>\n",
       "      <td>1.51761</td>\n",
       "      <td>13.89</td>\n",
       "      <td>3.60</td>\n",
       "      <td>1.36</td>\n",
       "      <td>72.73</td>\n",
       "      <td>0.48</td>\n",
       "      <td>7.83</td>\n",
       "      <td>0.00</td>\n",
       "      <td>0.00</td>\n",
       "      <td>1</td>\n",
       "    </tr>\n",
       "    <tr>\n",
       "      <th>1</th>\n",
       "      <td>1.51618</td>\n",
       "      <td>13.53</td>\n",
       "      <td>3.55</td>\n",
       "      <td>1.54</td>\n",
       "      <td>72.99</td>\n",
       "      <td>0.39</td>\n",
       "      <td>7.78</td>\n",
       "      <td>0.00</td>\n",
       "      <td>0.00</td>\n",
       "      <td>1</td>\n",
       "    </tr>\n",
       "    <tr>\n",
       "      <th>2</th>\n",
       "      <td>1.51766</td>\n",
       "      <td>13.21</td>\n",
       "      <td>3.69</td>\n",
       "      <td>1.29</td>\n",
       "      <td>72.61</td>\n",
       "      <td>0.57</td>\n",
       "      <td>8.22</td>\n",
       "      <td>0.00</td>\n",
       "      <td>0.00</td>\n",
       "      <td>1</td>\n",
       "    </tr>\n",
       "    <tr>\n",
       "      <th>3</th>\n",
       "      <td>1.51742</td>\n",
       "      <td>13.27</td>\n",
       "      <td>3.62</td>\n",
       "      <td>1.24</td>\n",
       "      <td>73.08</td>\n",
       "      <td>0.55</td>\n",
       "      <td>8.07</td>\n",
       "      <td>0.00</td>\n",
       "      <td>0.00</td>\n",
       "      <td>1</td>\n",
       "    </tr>\n",
       "    <tr>\n",
       "      <th>4</th>\n",
       "      <td>1.51596</td>\n",
       "      <td>12.79</td>\n",
       "      <td>3.61</td>\n",
       "      <td>1.62</td>\n",
       "      <td>72.97</td>\n",
       "      <td>0.64</td>\n",
       "      <td>8.07</td>\n",
       "      <td>0.00</td>\n",
       "      <td>0.26</td>\n",
       "      <td>1</td>\n",
       "    </tr>\n",
       "    <tr>\n",
       "      <th>...</th>\n",
       "      <td>...</td>\n",
       "      <td>...</td>\n",
       "      <td>...</td>\n",
       "      <td>...</td>\n",
       "      <td>...</td>\n",
       "      <td>...</td>\n",
       "      <td>...</td>\n",
       "      <td>...</td>\n",
       "      <td>...</td>\n",
       "      <td>...</td>\n",
       "    </tr>\n",
       "    <tr>\n",
       "      <th>208</th>\n",
       "      <td>1.51623</td>\n",
       "      <td>14.14</td>\n",
       "      <td>0.00</td>\n",
       "      <td>2.88</td>\n",
       "      <td>72.61</td>\n",
       "      <td>0.08</td>\n",
       "      <td>9.18</td>\n",
       "      <td>1.06</td>\n",
       "      <td>0.00</td>\n",
       "      <td>7</td>\n",
       "    </tr>\n",
       "    <tr>\n",
       "      <th>209</th>\n",
       "      <td>1.51685</td>\n",
       "      <td>14.92</td>\n",
       "      <td>0.00</td>\n",
       "      <td>1.99</td>\n",
       "      <td>73.06</td>\n",
       "      <td>0.00</td>\n",
       "      <td>8.40</td>\n",
       "      <td>1.59</td>\n",
       "      <td>0.00</td>\n",
       "      <td>7</td>\n",
       "    </tr>\n",
       "    <tr>\n",
       "      <th>210</th>\n",
       "      <td>1.52065</td>\n",
       "      <td>14.36</td>\n",
       "      <td>0.00</td>\n",
       "      <td>2.02</td>\n",
       "      <td>73.42</td>\n",
       "      <td>0.00</td>\n",
       "      <td>8.44</td>\n",
       "      <td>1.64</td>\n",
       "      <td>0.00</td>\n",
       "      <td>7</td>\n",
       "    </tr>\n",
       "    <tr>\n",
       "      <th>211</th>\n",
       "      <td>1.51651</td>\n",
       "      <td>14.38</td>\n",
       "      <td>0.00</td>\n",
       "      <td>1.94</td>\n",
       "      <td>73.61</td>\n",
       "      <td>0.00</td>\n",
       "      <td>8.48</td>\n",
       "      <td>1.57</td>\n",
       "      <td>0.00</td>\n",
       "      <td>7</td>\n",
       "    </tr>\n",
       "    <tr>\n",
       "      <th>212</th>\n",
       "      <td>1.51711</td>\n",
       "      <td>14.23</td>\n",
       "      <td>0.00</td>\n",
       "      <td>2.08</td>\n",
       "      <td>73.36</td>\n",
       "      <td>0.00</td>\n",
       "      <td>8.62</td>\n",
       "      <td>1.67</td>\n",
       "      <td>0.00</td>\n",
       "      <td>7</td>\n",
       "    </tr>\n",
       "  </tbody>\n",
       "</table>\n",
       "<p>213 rows × 10 columns</p>\n",
       "</div>"
      ],
      "text/plain": [
       "     1.52101  13.64  4.49  1.10  71.78  0.06  8.75  0.00  0.00.1  1.1\n",
       "0    1.51761  13.89  3.60  1.36  72.73  0.48  7.83  0.00    0.00    1\n",
       "1    1.51618  13.53  3.55  1.54  72.99  0.39  7.78  0.00    0.00    1\n",
       "2    1.51766  13.21  3.69  1.29  72.61  0.57  8.22  0.00    0.00    1\n",
       "3    1.51742  13.27  3.62  1.24  73.08  0.55  8.07  0.00    0.00    1\n",
       "4    1.51596  12.79  3.61  1.62  72.97  0.64  8.07  0.00    0.26    1\n",
       "..       ...    ...   ...   ...    ...   ...   ...   ...     ...  ...\n",
       "208  1.51623  14.14  0.00  2.88  72.61  0.08  9.18  1.06    0.00    7\n",
       "209  1.51685  14.92  0.00  1.99  73.06  0.00  8.40  1.59    0.00    7\n",
       "210  1.52065  14.36  0.00  2.02  73.42  0.00  8.44  1.64    0.00    7\n",
       "211  1.51651  14.38  0.00  1.94  73.61  0.00  8.48  1.57    0.00    7\n",
       "212  1.51711  14.23  0.00  2.08  73.36  0.00  8.62  1.67    0.00    7\n",
       "\n",
       "[213 rows x 10 columns]"
      ]
     },
     "execution_count": 289,
     "metadata": {},
     "output_type": "execute_result"
    }
   ],
   "source": [
    "# Drop first column of dataframe\n",
    "df = df.iloc[: , 1:]\n",
    "df"
   ]
  },
  {
   "cell_type": "code",
   "execution_count": 290,
   "id": "21ce5d98",
   "metadata": {},
   "outputs": [
    {
     "data": {
      "text/plain": [
       "(['r_index', 'na', 'mg', 'al', 'si', 'k', 'ca', 'ba', 'fe', 'glass_type'],\n",
       " ['building_windows_float_processed',\n",
       "  'building_windows_non_float_processed',\n",
       "  'vehicle_windows_float_processed',\n",
       "  'vehicle_windows_non_float_processed',\n",
       "  'containers',\n",
       "  'tableware',\n",
       "  'headlamps'])"
      ]
     },
     "execution_count": 290,
     "metadata": {},
     "output_type": "execute_result"
    }
   ],
   "source": [
    "cols=[\"r_index\",\"na\",\"mg\",\"al\",\"si\",\"k\",\"ca\",\"ba\",\"fe\",\"glass_type\"]\n",
    "\n",
    "labels=[\"building_windows_float_processed\",\n",
    "        \"building_windows_non_float_processed\",\n",
    "      \"vehicle_windows_float_processed\",\n",
    "      \"vehicle_windows_non_float_processed\",\n",
    "      \"containers\",\n",
    "      \"tableware\",\n",
    "      \"headlamps\"\n",
    "]\n",
    "cols, labels"
   ]
  },
  {
   "cell_type": "code",
   "execution_count": 291,
   "id": "0dfe0921",
   "metadata": {},
   "outputs": [
    {
     "data": {
      "text/html": [
       "<div>\n",
       "<style scoped>\n",
       "    .dataframe tbody tr th:only-of-type {\n",
       "        vertical-align: middle;\n",
       "    }\n",
       "\n",
       "    .dataframe tbody tr th {\n",
       "        vertical-align: top;\n",
       "    }\n",
       "\n",
       "    .dataframe thead th {\n",
       "        text-align: right;\n",
       "    }\n",
       "</style>\n",
       "<table border=\"1\" class=\"dataframe\">\n",
       "  <thead>\n",
       "    <tr style=\"text-align: right;\">\n",
       "      <th></th>\n",
       "      <th>r_index</th>\n",
       "      <th>na</th>\n",
       "      <th>mg</th>\n",
       "      <th>al</th>\n",
       "      <th>si</th>\n",
       "      <th>k</th>\n",
       "      <th>ca</th>\n",
       "      <th>ba</th>\n",
       "      <th>fe</th>\n",
       "      <th>glass_type</th>\n",
       "    </tr>\n",
       "  </thead>\n",
       "  <tbody>\n",
       "    <tr>\n",
       "      <th>0</th>\n",
       "      <td>1.51761</td>\n",
       "      <td>13.89</td>\n",
       "      <td>3.60</td>\n",
       "      <td>1.36</td>\n",
       "      <td>72.73</td>\n",
       "      <td>0.48</td>\n",
       "      <td>7.83</td>\n",
       "      <td>0.0</td>\n",
       "      <td>0.00</td>\n",
       "      <td>1</td>\n",
       "    </tr>\n",
       "    <tr>\n",
       "      <th>1</th>\n",
       "      <td>1.51618</td>\n",
       "      <td>13.53</td>\n",
       "      <td>3.55</td>\n",
       "      <td>1.54</td>\n",
       "      <td>72.99</td>\n",
       "      <td>0.39</td>\n",
       "      <td>7.78</td>\n",
       "      <td>0.0</td>\n",
       "      <td>0.00</td>\n",
       "      <td>1</td>\n",
       "    </tr>\n",
       "    <tr>\n",
       "      <th>2</th>\n",
       "      <td>1.51766</td>\n",
       "      <td>13.21</td>\n",
       "      <td>3.69</td>\n",
       "      <td>1.29</td>\n",
       "      <td>72.61</td>\n",
       "      <td>0.57</td>\n",
       "      <td>8.22</td>\n",
       "      <td>0.0</td>\n",
       "      <td>0.00</td>\n",
       "      <td>1</td>\n",
       "    </tr>\n",
       "    <tr>\n",
       "      <th>3</th>\n",
       "      <td>1.51742</td>\n",
       "      <td>13.27</td>\n",
       "      <td>3.62</td>\n",
       "      <td>1.24</td>\n",
       "      <td>73.08</td>\n",
       "      <td>0.55</td>\n",
       "      <td>8.07</td>\n",
       "      <td>0.0</td>\n",
       "      <td>0.00</td>\n",
       "      <td>1</td>\n",
       "    </tr>\n",
       "    <tr>\n",
       "      <th>4</th>\n",
       "      <td>1.51596</td>\n",
       "      <td>12.79</td>\n",
       "      <td>3.61</td>\n",
       "      <td>1.62</td>\n",
       "      <td>72.97</td>\n",
       "      <td>0.64</td>\n",
       "      <td>8.07</td>\n",
       "      <td>0.0</td>\n",
       "      <td>0.26</td>\n",
       "      <td>1</td>\n",
       "    </tr>\n",
       "  </tbody>\n",
       "</table>\n",
       "</div>"
      ],
      "text/plain": [
       "   r_index     na    mg    al     si     k    ca   ba    fe  glass_type\n",
       "0  1.51761  13.89  3.60  1.36  72.73  0.48  7.83  0.0  0.00           1\n",
       "1  1.51618  13.53  3.55  1.54  72.99  0.39  7.78  0.0  0.00           1\n",
       "2  1.51766  13.21  3.69  1.29  72.61  0.57  8.22  0.0  0.00           1\n",
       "3  1.51742  13.27  3.62  1.24  73.08  0.55  8.07  0.0  0.00           1\n",
       "4  1.51596  12.79  3.61  1.62  72.97  0.64  8.07  0.0  0.26           1"
      ]
     },
     "execution_count": 291,
     "metadata": {},
     "output_type": "execute_result"
    }
   ],
   "source": [
    "df.columns=cols\n",
    "df.head()"
   ]
  },
  {
   "cell_type": "code",
   "execution_count": 292,
   "id": "a1476921",
   "metadata": {},
   "outputs": [],
   "source": [
    "#remove category with no data"
   ]
  },
  {
   "cell_type": "code",
   "execution_count": 293,
   "id": "79302da4",
   "metadata": {
    "scrolled": true
   },
   "outputs": [
    {
     "data": {
      "text/plain": [
       "False"
      ]
     },
     "execution_count": 293,
     "metadata": {},
     "output_type": "execute_result"
    }
   ],
   "source": [
    "4 in df.glass_type.values"
   ]
  },
  {
   "cell_type": "code",
   "execution_count": 294,
   "id": "89683329",
   "metadata": {},
   "outputs": [
    {
     "data": {
      "text/plain": [
       "2    76\n",
       "1    69\n",
       "7    29\n",
       "3    17\n",
       "5    13\n",
       "6     9\n",
       "Name: glass_type, dtype: int64"
      ]
     },
     "execution_count": 294,
     "metadata": {},
     "output_type": "execute_result"
    }
   ],
   "source": [
    "df[\"glass_type\"].value_counts()"
   ]
  },
  {
   "cell_type": "code",
   "execution_count": 295,
   "id": "b9abf2a3",
   "metadata": {},
   "outputs": [
    {
     "data": {
      "text/plain": [
       "['building_windows_float_processed',\n",
       " 'building_windows_non_float_processed',\n",
       " 'vehicle_windows_float_processed',\n",
       " 'containers',\n",
       " 'tableware',\n",
       " 'headlamps']"
      ]
     },
     "execution_count": 295,
     "metadata": {},
     "output_type": "execute_result"
    }
   ],
   "source": [
    "del labels[3]\n",
    "labels"
   ]
  },
  {
   "cell_type": "code",
   "execution_count": 296,
   "id": "95f99cf1",
   "metadata": {},
   "outputs": [],
   "source": [
    "#reorganize ylabels to run from 0"
   ]
  },
  {
   "cell_type": "code",
   "execution_count": 297,
   "id": "4f683945",
   "metadata": {},
   "outputs": [
    {
     "data": {
      "text/plain": [
       "1    76\n",
       "0    69\n",
       "5    29\n",
       "2    17\n",
       "3    13\n",
       "4     9\n",
       "Name: glass_type, dtype: int64"
      ]
     },
     "execution_count": 297,
     "metadata": {},
     "output_type": "execute_result"
    }
   ],
   "source": [
    "df.loc[df.glass_type <4, \"glass_type\"]-=1\n",
    "df.loc[df.glass_type >4, \"glass_type\"]-=2\n",
    "df[\"glass_type\"].value_counts()"
   ]
  },
  {
   "cell_type": "code",
   "execution_count": 298,
   "id": "d984615d",
   "metadata": {},
   "outputs": [
    {
     "data": {
      "text/html": [
       "<div>\n",
       "<style scoped>\n",
       "    .dataframe tbody tr th:only-of-type {\n",
       "        vertical-align: middle;\n",
       "    }\n",
       "\n",
       "    .dataframe tbody tr th {\n",
       "        vertical-align: top;\n",
       "    }\n",
       "\n",
       "    .dataframe thead th {\n",
       "        text-align: right;\n",
       "    }\n",
       "</style>\n",
       "<table border=\"1\" class=\"dataframe\">\n",
       "  <thead>\n",
       "    <tr style=\"text-align: right;\">\n",
       "      <th></th>\n",
       "      <th>r_index</th>\n",
       "      <th>na</th>\n",
       "      <th>mg</th>\n",
       "      <th>al</th>\n",
       "      <th>si</th>\n",
       "      <th>k</th>\n",
       "      <th>ca</th>\n",
       "      <th>ba</th>\n",
       "      <th>fe</th>\n",
       "      <th>glass_type</th>\n",
       "    </tr>\n",
       "  </thead>\n",
       "  <tbody>\n",
       "    <tr>\n",
       "      <th>count</th>\n",
       "      <td>213.000000</td>\n",
       "      <td>213.000000</td>\n",
       "      <td>213.000000</td>\n",
       "      <td>213.000000</td>\n",
       "      <td>213.000000</td>\n",
       "      <td>213.000000</td>\n",
       "      <td>213.000000</td>\n",
       "      <td>213.000000</td>\n",
       "      <td>213.000000</td>\n",
       "      <td>213.000000</td>\n",
       "    </tr>\n",
       "    <tr>\n",
       "      <th>mean</th>\n",
       "      <td>1.518353</td>\n",
       "      <td>13.406761</td>\n",
       "      <td>2.676056</td>\n",
       "      <td>1.446526</td>\n",
       "      <td>72.655023</td>\n",
       "      <td>0.499108</td>\n",
       "      <td>8.957934</td>\n",
       "      <td>0.175869</td>\n",
       "      <td>0.057277</td>\n",
       "      <td>1.549296</td>\n",
       "    </tr>\n",
       "    <tr>\n",
       "      <th>std</th>\n",
       "      <td>0.003039</td>\n",
       "      <td>0.818371</td>\n",
       "      <td>1.440453</td>\n",
       "      <td>0.499882</td>\n",
       "      <td>0.774052</td>\n",
       "      <td>0.653035</td>\n",
       "      <td>1.426435</td>\n",
       "      <td>0.498245</td>\n",
       "      <td>0.097589</td>\n",
       "      <td>1.708376</td>\n",
       "    </tr>\n",
       "    <tr>\n",
       "      <th>min</th>\n",
       "      <td>1.511150</td>\n",
       "      <td>10.730000</td>\n",
       "      <td>0.000000</td>\n",
       "      <td>0.290000</td>\n",
       "      <td>69.810000</td>\n",
       "      <td>0.000000</td>\n",
       "      <td>5.430000</td>\n",
       "      <td>0.000000</td>\n",
       "      <td>0.000000</td>\n",
       "      <td>0.000000</td>\n",
       "    </tr>\n",
       "    <tr>\n",
       "      <th>25%</th>\n",
       "      <td>1.516520</td>\n",
       "      <td>12.900000</td>\n",
       "      <td>2.090000</td>\n",
       "      <td>1.190000</td>\n",
       "      <td>72.280000</td>\n",
       "      <td>0.130000</td>\n",
       "      <td>8.240000</td>\n",
       "      <td>0.000000</td>\n",
       "      <td>0.000000</td>\n",
       "      <td>0.000000</td>\n",
       "    </tr>\n",
       "    <tr>\n",
       "      <th>50%</th>\n",
       "      <td>1.517680</td>\n",
       "      <td>13.300000</td>\n",
       "      <td>3.480000</td>\n",
       "      <td>1.360000</td>\n",
       "      <td>72.790000</td>\n",
       "      <td>0.560000</td>\n",
       "      <td>8.600000</td>\n",
       "      <td>0.000000</td>\n",
       "      <td>0.000000</td>\n",
       "      <td>1.000000</td>\n",
       "    </tr>\n",
       "    <tr>\n",
       "      <th>75%</th>\n",
       "      <td>1.519150</td>\n",
       "      <td>13.830000</td>\n",
       "      <td>3.600000</td>\n",
       "      <td>1.630000</td>\n",
       "      <td>73.090000</td>\n",
       "      <td>0.610000</td>\n",
       "      <td>9.180000</td>\n",
       "      <td>0.000000</td>\n",
       "      <td>0.100000</td>\n",
       "      <td>2.000000</td>\n",
       "    </tr>\n",
       "    <tr>\n",
       "      <th>max</th>\n",
       "      <td>1.533930</td>\n",
       "      <td>17.380000</td>\n",
       "      <td>3.980000</td>\n",
       "      <td>3.500000</td>\n",
       "      <td>75.410000</td>\n",
       "      <td>6.210000</td>\n",
       "      <td>16.190000</td>\n",
       "      <td>3.150000</td>\n",
       "      <td>0.510000</td>\n",
       "      <td>5.000000</td>\n",
       "    </tr>\n",
       "  </tbody>\n",
       "</table>\n",
       "</div>"
      ],
      "text/plain": [
       "          r_index          na          mg          al          si           k  \\\n",
       "count  213.000000  213.000000  213.000000  213.000000  213.000000  213.000000   \n",
       "mean     1.518353   13.406761    2.676056    1.446526   72.655023    0.499108   \n",
       "std      0.003039    0.818371    1.440453    0.499882    0.774052    0.653035   \n",
       "min      1.511150   10.730000    0.000000    0.290000   69.810000    0.000000   \n",
       "25%      1.516520   12.900000    2.090000    1.190000   72.280000    0.130000   \n",
       "50%      1.517680   13.300000    3.480000    1.360000   72.790000    0.560000   \n",
       "75%      1.519150   13.830000    3.600000    1.630000   73.090000    0.610000   \n",
       "max      1.533930   17.380000    3.980000    3.500000   75.410000    6.210000   \n",
       "\n",
       "               ca          ba          fe  glass_type  \n",
       "count  213.000000  213.000000  213.000000  213.000000  \n",
       "mean     8.957934    0.175869    0.057277    1.549296  \n",
       "std      1.426435    0.498245    0.097589    1.708376  \n",
       "min      5.430000    0.000000    0.000000    0.000000  \n",
       "25%      8.240000    0.000000    0.000000    0.000000  \n",
       "50%      8.600000    0.000000    0.000000    1.000000  \n",
       "75%      9.180000    0.000000    0.100000    2.000000  \n",
       "max     16.190000    3.150000    0.510000    5.000000  "
      ]
     },
     "execution_count": 298,
     "metadata": {},
     "output_type": "execute_result"
    }
   ],
   "source": [
    "df.describe()"
   ]
  },
  {
   "cell_type": "code",
   "execution_count": 299,
   "id": "11fc434e",
   "metadata": {},
   "outputs": [],
   "source": [
    "import matplotlib.pyplot as plt\n",
    "import seaborn as sns"
   ]
  },
  {
   "cell_type": "code",
   "execution_count": 300,
   "id": "09f8e64f",
   "metadata": {},
   "outputs": [],
   "source": [
    "#distribution of features"
   ]
  },
  {
   "cell_type": "code",
   "execution_count": 301,
   "id": "dcffb169",
   "metadata": {},
   "outputs": [
    {
     "data": {
      "image/png": "[encoded data removed]",
      "text/plain": [
       "<Figure size 1440x576 with 10 Axes>"
      ]
     },
     "metadata": {
      "needs_background": "light"
     },
     "output_type": "display_data"
    }
   ],
   "source": [
    "fig, axes = plt.subplots(nrows=2, ncols=5, figsize=(20,8))\n",
    "for i, column in enumerate(df.columns, 1):\n",
    "    plt.subplot(2,5,i)\n",
    "    sns.histplot(df[column],)\n",
    "    \n",
    "fig.tight_layout()"
   ]
  },
  {
   "cell_type": "code",
   "execution_count": 302,
   "id": "ad27a50b",
   "metadata": {},
   "outputs": [],
   "source": [
    "#outliers present in the data"
   ]
  },
  {
   "cell_type": "code",
   "execution_count": 303,
   "id": "c357a610",
   "metadata": {},
   "outputs": [
    {
     "data": {
      "image/png": "[encoded data removed]",
      "text/plain": [
       "<Figure size 432x288 with 1 Axes>"
      ]
     },
     "metadata": {
      "needs_background": "light"
     },
     "output_type": "display_data"
    }
   ],
   "source": [
    "ax = sns.boxplot(data=df, orient=\"h\", palette=\"Set2\")"
   ]
  },
  {
   "cell_type": "code",
   "execution_count": 304,
   "id": "a2f0267c",
   "metadata": {},
   "outputs": [
    {
     "data": {
      "text/plain": [
       "Text(0.5, 0, 'k')"
      ]
     },
     "execution_count": 304,
     "metadata": {},
     "output_type": "execute_result"
    },
    {
     "data": {
      "image/png": "[encoded data removed]",
      "text/plain": [
       "<Figure size 432x288 with 1 Axes>"
      ]
     },
     "metadata": {
      "needs_background": "light"
     },
     "output_type": "display_data"
    }
   ],
   "source": [
    "ax = sns.boxplot(x=df[\"k\"])\n",
    "ax.set_xlabel('k')"
   ]
  },
  {
   "cell_type": "code",
   "execution_count": 305,
   "id": "4ef5bc46",
   "metadata": {},
   "outputs": [
    {
     "data": {
      "text/html": [
       "<div>\n",
       "<style scoped>\n",
       "    .dataframe tbody tr th:only-of-type {\n",
       "        vertical-align: middle;\n",
       "    }\n",
       "\n",
       "    .dataframe tbody tr th {\n",
       "        vertical-align: top;\n",
       "    }\n",
       "\n",
       "    .dataframe thead th {\n",
       "        text-align: right;\n",
       "    }\n",
       "</style>\n",
       "<table border=\"1\" class=\"dataframe\">\n",
       "  <thead>\n",
       "    <tr style=\"text-align: right;\">\n",
       "      <th></th>\n",
       "      <th>r_index</th>\n",
       "      <th>na</th>\n",
       "      <th>mg</th>\n",
       "      <th>al</th>\n",
       "      <th>si</th>\n",
       "      <th>k</th>\n",
       "      <th>ca</th>\n",
       "      <th>ba</th>\n",
       "      <th>fe</th>\n",
       "      <th>glass_type</th>\n",
       "    </tr>\n",
       "  </thead>\n",
       "  <tbody>\n",
       "    <tr>\n",
       "      <th>170</th>\n",
       "      <td>1.51316</td>\n",
       "      <td>13.02</td>\n",
       "      <td>0.0</td>\n",
       "      <td>3.04</td>\n",
       "      <td>70.48</td>\n",
       "      <td>6.21</td>\n",
       "      <td>6.96</td>\n",
       "      <td>0.0</td>\n",
       "      <td>0.0</td>\n",
       "      <td>3</td>\n",
       "    </tr>\n",
       "    <tr>\n",
       "      <th>171</th>\n",
       "      <td>1.51321</td>\n",
       "      <td>13.00</td>\n",
       "      <td>0.0</td>\n",
       "      <td>3.02</td>\n",
       "      <td>70.70</td>\n",
       "      <td>6.21</td>\n",
       "      <td>6.93</td>\n",
       "      <td>0.0</td>\n",
       "      <td>0.0</td>\n",
       "      <td>3</td>\n",
       "    </tr>\n",
       "    <tr>\n",
       "      <th>200</th>\n",
       "      <td>1.51653</td>\n",
       "      <td>11.95</td>\n",
       "      <td>0.0</td>\n",
       "      <td>1.19</td>\n",
       "      <td>75.18</td>\n",
       "      <td>2.70</td>\n",
       "      <td>8.93</td>\n",
       "      <td>0.0</td>\n",
       "      <td>0.0</td>\n",
       "      <td>5</td>\n",
       "    </tr>\n",
       "  </tbody>\n",
       "</table>\n",
       "</div>"
      ],
      "text/plain": [
       "     r_index     na   mg    al     si     k    ca   ba   fe  glass_type\n",
       "170  1.51316  13.02  0.0  3.04  70.48  6.21  6.96  0.0  0.0           3\n",
       "171  1.51321  13.00  0.0  3.02  70.70  6.21  6.93  0.0  0.0           3\n",
       "200  1.51653  11.95  0.0  1.19  75.18  2.70  8.93  0.0  0.0           5"
      ]
     },
     "execution_count": 305,
     "metadata": {},
     "output_type": "execute_result"
    }
   ],
   "source": [
    "df[df.k>=2]"
   ]
  },
  {
   "cell_type": "code",
   "execution_count": 306,
   "id": "a4869850",
   "metadata": {},
   "outputs": [
    {
     "data": {
      "text/plain": [
       "1    76\n",
       "0    69\n",
       "5    29\n",
       "2    17\n",
       "3    13\n",
       "4     9\n",
       "Name: glass_type, dtype: int64"
      ]
     },
     "execution_count": 306,
     "metadata": {},
     "output_type": "execute_result"
    }
   ],
   "source": [
    "df.glass_type.value_counts()"
   ]
  },
  {
   "cell_type": "code",
   "execution_count": 307,
   "id": "98315b81",
   "metadata": {},
   "outputs": [],
   "source": [
    "#removal of outliers"
   ]
  },
  {
   "cell_type": "code",
   "execution_count": 308,
   "id": "33c654e4",
   "metadata": {},
   "outputs": [
    {
     "data": {
      "text/html": [
       "<div>\n",
       "<style scoped>\n",
       "    .dataframe tbody tr th:only-of-type {\n",
       "        vertical-align: middle;\n",
       "    }\n",
       "\n",
       "    .dataframe tbody tr th {\n",
       "        vertical-align: top;\n",
       "    }\n",
       "\n",
       "    .dataframe thead th {\n",
       "        text-align: right;\n",
       "    }\n",
       "</style>\n",
       "<table border=\"1\" class=\"dataframe\">\n",
       "  <thead>\n",
       "    <tr style=\"text-align: right;\">\n",
       "      <th></th>\n",
       "      <th>r_index</th>\n",
       "      <th>na</th>\n",
       "      <th>mg</th>\n",
       "      <th>al</th>\n",
       "      <th>si</th>\n",
       "      <th>k</th>\n",
       "      <th>ca</th>\n",
       "      <th>ba</th>\n",
       "      <th>fe</th>\n",
       "      <th>glass_type</th>\n",
       "    </tr>\n",
       "  </thead>\n",
       "  <tbody>\n",
       "    <tr>\n",
       "      <th>0</th>\n",
       "      <td>1.51761</td>\n",
       "      <td>13.89</td>\n",
       "      <td>3.60</td>\n",
       "      <td>1.36</td>\n",
       "      <td>72.73</td>\n",
       "      <td>0.48</td>\n",
       "      <td>7.83</td>\n",
       "      <td>0.00</td>\n",
       "      <td>0.00</td>\n",
       "      <td>0</td>\n",
       "    </tr>\n",
       "    <tr>\n",
       "      <th>1</th>\n",
       "      <td>1.51618</td>\n",
       "      <td>13.53</td>\n",
       "      <td>3.55</td>\n",
       "      <td>1.54</td>\n",
       "      <td>72.99</td>\n",
       "      <td>0.39</td>\n",
       "      <td>7.78</td>\n",
       "      <td>0.00</td>\n",
       "      <td>0.00</td>\n",
       "      <td>0</td>\n",
       "    </tr>\n",
       "    <tr>\n",
       "      <th>2</th>\n",
       "      <td>1.51766</td>\n",
       "      <td>13.21</td>\n",
       "      <td>3.69</td>\n",
       "      <td>1.29</td>\n",
       "      <td>72.61</td>\n",
       "      <td>0.57</td>\n",
       "      <td>8.22</td>\n",
       "      <td>0.00</td>\n",
       "      <td>0.00</td>\n",
       "      <td>0</td>\n",
       "    </tr>\n",
       "    <tr>\n",
       "      <th>3</th>\n",
       "      <td>1.51742</td>\n",
       "      <td>13.27</td>\n",
       "      <td>3.62</td>\n",
       "      <td>1.24</td>\n",
       "      <td>73.08</td>\n",
       "      <td>0.55</td>\n",
       "      <td>8.07</td>\n",
       "      <td>0.00</td>\n",
       "      <td>0.00</td>\n",
       "      <td>0</td>\n",
       "    </tr>\n",
       "    <tr>\n",
       "      <th>4</th>\n",
       "      <td>1.51596</td>\n",
       "      <td>12.79</td>\n",
       "      <td>3.61</td>\n",
       "      <td>1.62</td>\n",
       "      <td>72.97</td>\n",
       "      <td>0.64</td>\n",
       "      <td>8.07</td>\n",
       "      <td>0.00</td>\n",
       "      <td>0.26</td>\n",
       "      <td>0</td>\n",
       "    </tr>\n",
       "    <tr>\n",
       "      <th>...</th>\n",
       "      <td>...</td>\n",
       "      <td>...</td>\n",
       "      <td>...</td>\n",
       "      <td>...</td>\n",
       "      <td>...</td>\n",
       "      <td>...</td>\n",
       "      <td>...</td>\n",
       "      <td>...</td>\n",
       "      <td>...</td>\n",
       "      <td>...</td>\n",
       "    </tr>\n",
       "    <tr>\n",
       "      <th>205</th>\n",
       "      <td>1.51623</td>\n",
       "      <td>14.14</td>\n",
       "      <td>0.00</td>\n",
       "      <td>2.88</td>\n",
       "      <td>72.61</td>\n",
       "      <td>0.08</td>\n",
       "      <td>9.18</td>\n",
       "      <td>1.06</td>\n",
       "      <td>0.00</td>\n",
       "      <td>5</td>\n",
       "    </tr>\n",
       "    <tr>\n",
       "      <th>206</th>\n",
       "      <td>1.51685</td>\n",
       "      <td>14.92</td>\n",
       "      <td>0.00</td>\n",
       "      <td>1.99</td>\n",
       "      <td>73.06</td>\n",
       "      <td>0.00</td>\n",
       "      <td>8.40</td>\n",
       "      <td>1.59</td>\n",
       "      <td>0.00</td>\n",
       "      <td>5</td>\n",
       "    </tr>\n",
       "    <tr>\n",
       "      <th>207</th>\n",
       "      <td>1.52065</td>\n",
       "      <td>14.36</td>\n",
       "      <td>0.00</td>\n",
       "      <td>2.02</td>\n",
       "      <td>73.42</td>\n",
       "      <td>0.00</td>\n",
       "      <td>8.44</td>\n",
       "      <td>1.64</td>\n",
       "      <td>0.00</td>\n",
       "      <td>5</td>\n",
       "    </tr>\n",
       "    <tr>\n",
       "      <th>208</th>\n",
       "      <td>1.51651</td>\n",
       "      <td>14.38</td>\n",
       "      <td>0.00</td>\n",
       "      <td>1.94</td>\n",
       "      <td>73.61</td>\n",
       "      <td>0.00</td>\n",
       "      <td>8.48</td>\n",
       "      <td>1.57</td>\n",
       "      <td>0.00</td>\n",
       "      <td>5</td>\n",
       "    </tr>\n",
       "    <tr>\n",
       "      <th>209</th>\n",
       "      <td>1.51711</td>\n",
       "      <td>14.23</td>\n",
       "      <td>0.00</td>\n",
       "      <td>2.08</td>\n",
       "      <td>73.36</td>\n",
       "      <td>0.00</td>\n",
       "      <td>8.62</td>\n",
       "      <td>1.67</td>\n",
       "      <td>0.00</td>\n",
       "      <td>5</td>\n",
       "    </tr>\n",
       "  </tbody>\n",
       "</table>\n",
       "<p>210 rows × 10 columns</p>\n",
       "</div>"
      ],
      "text/plain": [
       "     r_index     na    mg    al     si     k    ca    ba    fe  glass_type\n",
       "0    1.51761  13.89  3.60  1.36  72.73  0.48  7.83  0.00  0.00           0\n",
       "1    1.51618  13.53  3.55  1.54  72.99  0.39  7.78  0.00  0.00           0\n",
       "2    1.51766  13.21  3.69  1.29  72.61  0.57  8.22  0.00  0.00           0\n",
       "3    1.51742  13.27  3.62  1.24  73.08  0.55  8.07  0.00  0.00           0\n",
       "4    1.51596  12.79  3.61  1.62  72.97  0.64  8.07  0.00  0.26           0\n",
       "..       ...    ...   ...   ...    ...   ...   ...   ...   ...         ...\n",
       "205  1.51623  14.14  0.00  2.88  72.61  0.08  9.18  1.06  0.00           5\n",
       "206  1.51685  14.92  0.00  1.99  73.06  0.00  8.40  1.59  0.00           5\n",
       "207  1.52065  14.36  0.00  2.02  73.42  0.00  8.44  1.64  0.00           5\n",
       "208  1.51651  14.38  0.00  1.94  73.61  0.00  8.48  1.57  0.00           5\n",
       "209  1.51711  14.23  0.00  2.08  73.36  0.00  8.62  1.67  0.00           5\n",
       "\n",
       "[210 rows x 10 columns]"
      ]
     },
     "execution_count": 308,
     "metadata": {},
     "output_type": "execute_result"
    }
   ],
   "source": [
    "df=df[df.k<2].reset_index(drop=True)\n",
    "df"
   ]
  },
  {
   "cell_type": "code",
   "execution_count": 309,
   "id": "e7b7c78f",
   "metadata": {},
   "outputs": [
    {
     "data": {
      "image/png": "[encoded data removed]",
      "text/plain": [
       "<Figure size 432x288 with 1 Axes>"
      ]
     },
     "metadata": {
      "needs_background": "light"
     },
     "output_type": "display_data"
    }
   ],
   "source": [
    "ax = sns.boxplot(data=df, orient=\"h\", palette=\"Set2\")"
   ]
  },
  {
   "cell_type": "code",
   "execution_count": 310,
   "id": "531bddef",
   "metadata": {},
   "outputs": [],
   "source": [
    "#no missing values"
   ]
  },
  {
   "cell_type": "code",
   "execution_count": 311,
   "id": "5f97a11d",
   "metadata": {},
   "outputs": [
    {
     "data": {
      "text/plain": [
       "r_index       False\n",
       "na            False\n",
       "mg            False\n",
       "al            False\n",
       "si            False\n",
       "k             False\n",
       "ca            False\n",
       "ba            False\n",
       "fe            False\n",
       "glass_type    False\n",
       "dtype: bool"
      ]
     },
     "execution_count": 311,
     "metadata": {},
     "output_type": "execute_result"
    }
   ],
   "source": [
    "df.isnull().any()"
   ]
  },
  {
   "cell_type": "code",
   "execution_count": 312,
   "id": "9cbdfa4e",
   "metadata": {},
   "outputs": [
    {
     "data": {
      "text/html": [
       "<div>\n",
       "<style scoped>\n",
       "    .dataframe tbody tr th:only-of-type {\n",
       "        vertical-align: middle;\n",
       "    }\n",
       "\n",
       "    .dataframe tbody tr th {\n",
       "        vertical-align: top;\n",
       "    }\n",
       "\n",
       "    .dataframe thead th {\n",
       "        text-align: right;\n",
       "    }\n",
       "</style>\n",
       "<table border=\"1\" class=\"dataframe\">\n",
       "  <thead>\n",
       "    <tr style=\"text-align: right;\">\n",
       "      <th></th>\n",
       "      <th>r_index</th>\n",
       "      <th>na</th>\n",
       "      <th>mg</th>\n",
       "      <th>al</th>\n",
       "      <th>si</th>\n",
       "      <th>k</th>\n",
       "      <th>ca</th>\n",
       "      <th>ba</th>\n",
       "      <th>fe</th>\n",
       "      <th>glass_type</th>\n",
       "      <th>0</th>\n",
       "      <th>1</th>\n",
       "      <th>2</th>\n",
       "      <th>3</th>\n",
       "      <th>4</th>\n",
       "      <th>5</th>\n",
       "    </tr>\n",
       "  </thead>\n",
       "  <tbody>\n",
       "    <tr>\n",
       "      <th>205</th>\n",
       "      <td>1.51623</td>\n",
       "      <td>14.14</td>\n",
       "      <td>0.0</td>\n",
       "      <td>2.88</td>\n",
       "      <td>72.61</td>\n",
       "      <td>0.08</td>\n",
       "      <td>9.18</td>\n",
       "      <td>1.06</td>\n",
       "      <td>0.0</td>\n",
       "      <td>5</td>\n",
       "      <td>0</td>\n",
       "      <td>0</td>\n",
       "      <td>0</td>\n",
       "      <td>0</td>\n",
       "      <td>0</td>\n",
       "      <td>1</td>\n",
       "    </tr>\n",
       "    <tr>\n",
       "      <th>206</th>\n",
       "      <td>1.51685</td>\n",
       "      <td>14.92</td>\n",
       "      <td>0.0</td>\n",
       "      <td>1.99</td>\n",
       "      <td>73.06</td>\n",
       "      <td>0.00</td>\n",
       "      <td>8.40</td>\n",
       "      <td>1.59</td>\n",
       "      <td>0.0</td>\n",
       "      <td>5</td>\n",
       "      <td>0</td>\n",
       "      <td>0</td>\n",
       "      <td>0</td>\n",
       "      <td>0</td>\n",
       "      <td>0</td>\n",
       "      <td>1</td>\n",
       "    </tr>\n",
       "    <tr>\n",
       "      <th>207</th>\n",
       "      <td>1.52065</td>\n",
       "      <td>14.36</td>\n",
       "      <td>0.0</td>\n",
       "      <td>2.02</td>\n",
       "      <td>73.42</td>\n",
       "      <td>0.00</td>\n",
       "      <td>8.44</td>\n",
       "      <td>1.64</td>\n",
       "      <td>0.0</td>\n",
       "      <td>5</td>\n",
       "      <td>0</td>\n",
       "      <td>0</td>\n",
       "      <td>0</td>\n",
       "      <td>0</td>\n",
       "      <td>0</td>\n",
       "      <td>1</td>\n",
       "    </tr>\n",
       "    <tr>\n",
       "      <th>208</th>\n",
       "      <td>1.51651</td>\n",
       "      <td>14.38</td>\n",
       "      <td>0.0</td>\n",
       "      <td>1.94</td>\n",
       "      <td>73.61</td>\n",
       "      <td>0.00</td>\n",
       "      <td>8.48</td>\n",
       "      <td>1.57</td>\n",
       "      <td>0.0</td>\n",
       "      <td>5</td>\n",
       "      <td>0</td>\n",
       "      <td>0</td>\n",
       "      <td>0</td>\n",
       "      <td>0</td>\n",
       "      <td>0</td>\n",
       "      <td>1</td>\n",
       "    </tr>\n",
       "    <tr>\n",
       "      <th>209</th>\n",
       "      <td>1.51711</td>\n",
       "      <td>14.23</td>\n",
       "      <td>0.0</td>\n",
       "      <td>2.08</td>\n",
       "      <td>73.36</td>\n",
       "      <td>0.00</td>\n",
       "      <td>8.62</td>\n",
       "      <td>1.67</td>\n",
       "      <td>0.0</td>\n",
       "      <td>5</td>\n",
       "      <td>0</td>\n",
       "      <td>0</td>\n",
       "      <td>0</td>\n",
       "      <td>0</td>\n",
       "      <td>0</td>\n",
       "      <td>1</td>\n",
       "    </tr>\n",
       "  </tbody>\n",
       "</table>\n",
       "</div>"
      ],
      "text/plain": [
       "     r_index     na   mg    al     si     k    ca    ba   fe  glass_type  0  \\\n",
       "205  1.51623  14.14  0.0  2.88  72.61  0.08  9.18  1.06  0.0           5  0   \n",
       "206  1.51685  14.92  0.0  1.99  73.06  0.00  8.40  1.59  0.0           5  0   \n",
       "207  1.52065  14.36  0.0  2.02  73.42  0.00  8.44  1.64  0.0           5  0   \n",
       "208  1.51651  14.38  0.0  1.94  73.61  0.00  8.48  1.57  0.0           5  0   \n",
       "209  1.51711  14.23  0.0  2.08  73.36  0.00  8.62  1.67  0.0           5  0   \n",
       "\n",
       "     1  2  3  4  5  \n",
       "205  0  0  0  0  1  \n",
       "206  0  0  0  0  1  \n",
       "207  0  0  0  0  1  \n",
       "208  0  0  0  0  1  \n",
       "209  0  0  0  0  1  "
      ]
     },
     "execution_count": 312,
     "metadata": {},
     "output_type": "execute_result"
    }
   ],
   "source": [
    "df_copy=df\n",
    "one_hot_df=pd.get_dummies(df_copy['glass_type'])\n",
    "df_copy.drop('glass_type', axis=1)\n",
    "one_hot_df=df_copy.join(one_hot_df)\n",
    "one_hot_df.tail()"
   ]
  },
  {
   "cell_type": "code",
   "execution_count": 313,
   "id": "93e7635b",
   "metadata": {},
   "outputs": [],
   "source": [
    "#correlation matrix shows high correlation of features"
   ]
  },
  {
   "cell_type": "code",
   "execution_count": 314,
   "id": "59ab6ab9",
   "metadata": {},
   "outputs": [
    {
     "data": {
      "image/png": "[encoded data removed]",
      "text/plain": [
       "<Figure size 2520x1080 with 2 Axes>"
      ]
     },
     "metadata": {
      "needs_background": "light"
     },
     "output_type": "display_data"
    }
   ],
   "source": [
    "corrMatrix = one_hot_df.corr()\n",
    "plt.figure(figsize = (35,15))\n",
    "sns.heatmap(corrMatrix, annot=True)\n",
    "plt.show()"
   ]
  },
  {
   "cell_type": "markdown",
   "id": "e1d021e4",
   "metadata": {},
   "source": [
    "## Conclusion Part 1\n",
    "Discussion of findings and relevance on planned classification algorithms\n",
    "1. category 4 \"vehicle_windows_nonfloat_processed\" was removed from the label due to no data and the label was duly adjusted to run from 0-6 this will help in dependent variable encoding and improve model accuracy\n",
    "\n",
    "\n",
    "2. visualization shows distribution of features is normal or skewed so standardization will work better here than normalization both methods were tested and that turned out to be the case\n",
    "\n",
    "\n",
    "3. boxplot visualization shows outliers on \"k\" feature on categories that have relatively abundant data, given the overall small size of the dataset these can have a disproportionate effect on the ML model so outliers were removed, experiments were done and this turned out to be the case\n",
    "\n",
    "\n",
    "4. correlation matrix shows that features are highly correlated, this means that decision tree algorithms and neural networks will have better results here due to their dependency and ability to extract information from sorrounding features, consequently linear algorithms such as discriminant analysis and logistic regression will not produce good result here due to multicollinearity in the data so these were avoided"
   ]
  },
  {
   "cell_type": "markdown",
   "id": "4ae57468",
   "metadata": {},
   "source": [
    "# PART 2 DATA PREPARATION\n",
    "Preparation of Data necessary for machine learning"
   ]
  },
  {
   "cell_type": "code",
   "execution_count": 315,
   "id": "fd5b517d",
   "metadata": {},
   "outputs": [],
   "source": [
    "import numpy as np"
   ]
  },
  {
   "cell_type": "code",
   "execution_count": 316,
   "id": "76861feb",
   "metadata": {},
   "outputs": [],
   "source": [
    "#shuffle data"
   ]
  },
  {
   "cell_type": "code",
   "execution_count": 317,
   "id": "64c1c093",
   "metadata": {},
   "outputs": [
    {
     "data": {
      "text/html": [
       "<div>\n",
       "<style scoped>\n",
       "    .dataframe tbody tr th:only-of-type {\n",
       "        vertical-align: middle;\n",
       "    }\n",
       "\n",
       "    .dataframe tbody tr th {\n",
       "        vertical-align: top;\n",
       "    }\n",
       "\n",
       "    .dataframe thead th {\n",
       "        text-align: right;\n",
       "    }\n",
       "</style>\n",
       "<table border=\"1\" class=\"dataframe\">\n",
       "  <thead>\n",
       "    <tr style=\"text-align: right;\">\n",
       "      <th></th>\n",
       "      <th>r_index</th>\n",
       "      <th>na</th>\n",
       "      <th>mg</th>\n",
       "      <th>al</th>\n",
       "      <th>si</th>\n",
       "      <th>k</th>\n",
       "      <th>ca</th>\n",
       "      <th>ba</th>\n",
       "      <th>fe</th>\n",
       "      <th>glass_type</th>\n",
       "    </tr>\n",
       "  </thead>\n",
       "  <tbody>\n",
       "    <tr>\n",
       "      <th>0</th>\n",
       "      <td>1.51674</td>\n",
       "      <td>12.79</td>\n",
       "      <td>3.52</td>\n",
       "      <td>1.54</td>\n",
       "      <td>73.36</td>\n",
       "      <td>0.66</td>\n",
       "      <td>7.90</td>\n",
       "      <td>0.0</td>\n",
       "      <td>0.00</td>\n",
       "      <td>1</td>\n",
       "    </tr>\n",
       "    <tr>\n",
       "      <th>1</th>\n",
       "      <td>1.51655</td>\n",
       "      <td>13.41</td>\n",
       "      <td>3.39</td>\n",
       "      <td>1.28</td>\n",
       "      <td>72.64</td>\n",
       "      <td>0.52</td>\n",
       "      <td>8.65</td>\n",
       "      <td>0.0</td>\n",
       "      <td>0.00</td>\n",
       "      <td>2</td>\n",
       "    </tr>\n",
       "    <tr>\n",
       "      <th>2</th>\n",
       "      <td>1.51590</td>\n",
       "      <td>13.02</td>\n",
       "      <td>3.58</td>\n",
       "      <td>1.51</td>\n",
       "      <td>73.12</td>\n",
       "      <td>0.69</td>\n",
       "      <td>7.96</td>\n",
       "      <td>0.0</td>\n",
       "      <td>0.00</td>\n",
       "      <td>1</td>\n",
       "    </tr>\n",
       "    <tr>\n",
       "      <th>3</th>\n",
       "      <td>1.51860</td>\n",
       "      <td>13.36</td>\n",
       "      <td>3.43</td>\n",
       "      <td>1.43</td>\n",
       "      <td>72.26</td>\n",
       "      <td>0.51</td>\n",
       "      <td>8.60</td>\n",
       "      <td>0.0</td>\n",
       "      <td>0.00</td>\n",
       "      <td>1</td>\n",
       "    </tr>\n",
       "    <tr>\n",
       "      <th>4</th>\n",
       "      <td>1.51806</td>\n",
       "      <td>13.00</td>\n",
       "      <td>3.80</td>\n",
       "      <td>1.08</td>\n",
       "      <td>73.07</td>\n",
       "      <td>0.56</td>\n",
       "      <td>8.38</td>\n",
       "      <td>0.0</td>\n",
       "      <td>0.12</td>\n",
       "      <td>1</td>\n",
       "    </tr>\n",
       "    <tr>\n",
       "      <th>...</th>\n",
       "      <td>...</td>\n",
       "      <td>...</td>\n",
       "      <td>...</td>\n",
       "      <td>...</td>\n",
       "      <td>...</td>\n",
       "      <td>...</td>\n",
       "      <td>...</td>\n",
       "      <td>...</td>\n",
       "      <td>...</td>\n",
       "      <td>...</td>\n",
       "    </tr>\n",
       "    <tr>\n",
       "      <th>205</th>\n",
       "      <td>1.51796</td>\n",
       "      <td>13.50</td>\n",
       "      <td>3.36</td>\n",
       "      <td>1.63</td>\n",
       "      <td>71.94</td>\n",
       "      <td>0.57</td>\n",
       "      <td>8.81</td>\n",
       "      <td>0.0</td>\n",
       "      <td>0.09</td>\n",
       "      <td>2</td>\n",
       "    </tr>\n",
       "    <tr>\n",
       "      <th>206</th>\n",
       "      <td>1.52320</td>\n",
       "      <td>13.72</td>\n",
       "      <td>3.72</td>\n",
       "      <td>0.51</td>\n",
       "      <td>71.75</td>\n",
       "      <td>0.09</td>\n",
       "      <td>10.06</td>\n",
       "      <td>0.0</td>\n",
       "      <td>0.16</td>\n",
       "      <td>0</td>\n",
       "    </tr>\n",
       "    <tr>\n",
       "      <th>207</th>\n",
       "      <td>1.52177</td>\n",
       "      <td>13.75</td>\n",
       "      <td>1.01</td>\n",
       "      <td>1.36</td>\n",
       "      <td>72.19</td>\n",
       "      <td>0.33</td>\n",
       "      <td>11.14</td>\n",
       "      <td>0.0</td>\n",
       "      <td>0.00</td>\n",
       "      <td>1</td>\n",
       "    </tr>\n",
       "    <tr>\n",
       "      <th>208</th>\n",
       "      <td>1.52152</td>\n",
       "      <td>13.05</td>\n",
       "      <td>3.65</td>\n",
       "      <td>0.87</td>\n",
       "      <td>72.22</td>\n",
       "      <td>0.19</td>\n",
       "      <td>9.85</td>\n",
       "      <td>0.0</td>\n",
       "      <td>0.17</td>\n",
       "      <td>0</td>\n",
       "    </tr>\n",
       "    <tr>\n",
       "      <th>209</th>\n",
       "      <td>1.52247</td>\n",
       "      <td>14.86</td>\n",
       "      <td>2.20</td>\n",
       "      <td>2.06</td>\n",
       "      <td>70.26</td>\n",
       "      <td>0.76</td>\n",
       "      <td>9.76</td>\n",
       "      <td>0.0</td>\n",
       "      <td>0.00</td>\n",
       "      <td>5</td>\n",
       "    </tr>\n",
       "  </tbody>\n",
       "</table>\n",
       "<p>210 rows × 10 columns</p>\n",
       "</div>"
      ],
      "text/plain": [
       "     r_index     na    mg    al     si     k     ca   ba    fe  glass_type\n",
       "0    1.51674  12.79  3.52  1.54  73.36  0.66   7.90  0.0  0.00           1\n",
       "1    1.51655  13.41  3.39  1.28  72.64  0.52   8.65  0.0  0.00           2\n",
       "2    1.51590  13.02  3.58  1.51  73.12  0.69   7.96  0.0  0.00           1\n",
       "3    1.51860  13.36  3.43  1.43  72.26  0.51   8.60  0.0  0.00           1\n",
       "4    1.51806  13.00  3.80  1.08  73.07  0.56   8.38  0.0  0.12           1\n",
       "..       ...    ...   ...   ...    ...   ...    ...  ...   ...         ...\n",
       "205  1.51796  13.50  3.36  1.63  71.94  0.57   8.81  0.0  0.09           2\n",
       "206  1.52320  13.72  3.72  0.51  71.75  0.09  10.06  0.0  0.16           0\n",
       "207  1.52177  13.75  1.01  1.36  72.19  0.33  11.14  0.0  0.00           1\n",
       "208  1.52152  13.05  3.65  0.87  72.22  0.19   9.85  0.0  0.17           0\n",
       "209  1.52247  14.86  2.20  2.06  70.26  0.76   9.76  0.0  0.00           5\n",
       "\n",
       "[210 rows x 10 columns]"
      ]
     },
     "execution_count": 317,
     "metadata": {},
     "output_type": "execute_result"
    }
   ],
   "source": [
    "df=df.sample(frac=1).reset_index(drop=True)\n",
    "df"
   ]
  },
  {
   "cell_type": "code",
   "execution_count": 318,
   "id": "a973c7cf",
   "metadata": {},
   "outputs": [
    {
     "data": {
      "text/plain": [
       "1    76\n",
       "0    69\n",
       "5    28\n",
       "2    17\n",
       "3    11\n",
       "4     9\n",
       "Name: glass_type, dtype: int64"
      ]
     },
     "execution_count": 318,
     "metadata": {},
     "output_type": "execute_result"
    }
   ],
   "source": [
    "df.glass_type.value_counts()"
   ]
  },
  {
   "cell_type": "code",
   "execution_count": 319,
   "id": "f78dbfdf",
   "metadata": {},
   "outputs": [],
   "source": [
    "#seperate into features and labels"
   ]
  },
  {
   "cell_type": "code",
   "execution_count": 320,
   "id": "1344189f",
   "metadata": {},
   "outputs": [
    {
     "data": {
      "text/plain": [
       "((210, 9),\n",
       " array([1, 2, 1, 1, 1, 2, 0, 1, 0, 3, 1, 0, 0, 0, 0, 1, 1, 1, 1, 5, 0, 0,\n",
       "        0, 3, 1, 0, 0, 1, 1, 1, 5, 0, 1, 5, 1, 5, 2, 1, 1, 0, 1, 3, 0, 1,\n",
       "        5, 0, 1, 0, 5, 5, 1, 2, 1, 0, 1, 1, 0, 1, 1, 1, 0, 3, 4, 0, 0, 1,\n",
       "        0, 5, 0, 0, 0, 1, 1, 0, 1, 0, 0, 1, 2, 0, 2, 5, 1, 0, 1, 0, 4, 1,\n",
       "        1, 1, 5, 1, 0, 0, 0, 0, 3, 5, 1, 1, 0, 0, 1, 4, 5, 1, 5, 1, 1, 0,\n",
       "        4, 2, 4, 2, 2, 1, 3, 0, 0, 0, 5, 0, 5, 1, 4, 1, 0, 0, 2, 2, 1, 5,\n",
       "        2, 1, 0, 1, 5, 5, 1, 1, 2, 4, 1, 0, 3, 0, 0, 0, 5, 3, 1, 0, 5, 0,\n",
       "        5, 1, 0, 1, 0, 1, 1, 3, 1, 0, 3, 0, 2, 0, 1, 0, 1, 3, 5, 0, 0, 0,\n",
       "        0, 1, 1, 1, 1, 0, 0, 1, 1, 4, 5, 5, 1, 0, 5, 2, 4, 1, 1, 1, 5, 2,\n",
       "        0, 0, 5, 1, 0, 1, 1, 2, 0, 1, 0, 5], dtype=int64))"
      ]
     },
     "execution_count": 320,
     "metadata": {},
     "output_type": "execute_result"
    }
   ],
   "source": [
    "X = df.iloc[:, :-1].values\n",
    "y = df.iloc[:, -1].values\n",
    "X.shape, y"
   ]
  },
  {
   "cell_type": "code",
   "execution_count": 321,
   "id": "9bc0a731",
   "metadata": {},
   "outputs": [],
   "source": [
    "#stratified split to prevent test set imbalances"
   ]
  },
  {
   "cell_type": "code",
   "execution_count": 322,
   "id": "af68f8fe",
   "metadata": {},
   "outputs": [],
   "source": [
    "from sklearn.model_selection import train_test_split\n",
    "X_train, X_test, y_train, y_test = train_test_split(X, y, test_size = 0.20, stratify=y)"
   ]
  },
  {
   "cell_type": "code",
   "execution_count": 323,
   "id": "70b717d4",
   "metadata": {},
   "outputs": [
    {
     "data": {
      "text/plain": [
       "((168, 9), (42, 9), (168,), (42,))"
      ]
     },
     "execution_count": 323,
     "metadata": {},
     "output_type": "execute_result"
    }
   ],
   "source": [
    "X_train.shape, X_test.shape, y_train.shape, y_test.shape"
   ]
  },
  {
   "cell_type": "code",
   "execution_count": 324,
   "id": "3626afad",
   "metadata": {},
   "outputs": [],
   "source": [
    "#standardize the training data"
   ]
  },
  {
   "cell_type": "code",
   "execution_count": 325,
   "id": "fe5269b7",
   "metadata": {},
   "outputs": [],
   "source": [
    "from sklearn.preprocessing import MinMaxScaler, StandardScaler\n",
    "#sc = MinMaxScaler()\n",
    "sc=StandardScaler()\n",
    "X_train = sc.fit_transform(X_train)\n",
    "X_test = sc.transform(X_test)"
   ]
  },
  {
   "cell_type": "markdown",
   "id": "9e7d8d18",
   "metadata": {},
   "source": [
    "## Conclusion Part 2\n",
    "Explanation of rationale behind data preparation and how it will assist in machine learning\n",
    "1. The data was shuffled to prevent the model from learning unuseful patterns and improve model predictive performance\n",
    "\n",
    "\n",
    "2. due to the overall small size of the dataset and especially the category 4 \"containers\" only having 9 records Train, test split was done with stratification to prevent imbalances in the test set and improve accuracy\n",
    "\n",
    "\n",
    "3. varied ranges of input data can reduce model performance so Standardization was done on the training and test data to improve model performance and prediction accuracy, standardization was chosen here as opposed to normalization due to the generally normal distribution of the data and better performance\n"
   ]
  },
  {
   "cell_type": "markdown",
   "id": "45a4e6af",
   "metadata": {},
   "source": [
    "# PART 3 CLASSIFICATION ALGORITHMS\n",
    "Implementing classification algorithms"
   ]
  },
  {
   "cell_type": "code",
   "execution_count": 326,
   "id": "09a920f9",
   "metadata": {},
   "outputs": [],
   "source": [
    "from sklearn.model_selection import StratifiedKFold\n",
    "from sklearn.model_selection import cross_val_score"
   ]
  },
  {
   "cell_type": "code",
   "execution_count": 327,
   "id": "76984553",
   "metadata": {},
   "outputs": [],
   "source": [
    "results = []\n",
    "names = []\n",
    "kfold = StratifiedKFold(n_splits=3, random_state=1, shuffle=True)\n",
    "models=[]\n",
    "models.append(\n",
    "    ()\n",
    ")"
   ]
  },
  {
   "cell_type": "code",
   "execution_count": 328,
   "id": "1dbf22d4",
   "metadata": {},
   "outputs": [],
   "source": [
    "#kneighbours"
   ]
  },
  {
   "cell_type": "code",
   "execution_count": 329,
   "id": "e0b82440",
   "metadata": {},
   "outputs": [
    {
     "data": {
      "text/plain": [
       "([array([0.34285714, 0.31428571, 0.28571429])], ['KNN'])"
      ]
     },
     "execution_count": 329,
     "metadata": {},
     "output_type": "execute_result"
    }
   ],
   "source": [
    "from sklearn.neighbors import KNeighborsClassifier\n",
    "classifier = KNeighborsClassifier(n_neighbors = 5, metric = 'minkowski', p = 2)\n",
    "results.append( cross_val_score(classifier, X_scaled, y, cv=kfold, scoring='accuracy'))\n",
    "names.append('KNN')\n",
    "results, names\n",
    "#classifier.fit(X_train, y_train)"
   ]
  },
  {
   "cell_type": "code",
   "execution_count": 330,
   "id": "0846f78f",
   "metadata": {},
   "outputs": [],
   "source": [
    "#support vector classifier"
   ]
  },
  {
   "cell_type": "code",
   "execution_count": 331,
   "id": "ac279d36",
   "metadata": {},
   "outputs": [
    {
     "data": {
      "text/plain": [
       "([array([0.34285714, 0.31428571, 0.28571429]),\n",
       "  array([0.67857143, 0.55357143, 0.64285714])],\n",
       " ['KNN', 'SVM'])"
      ]
     },
     "execution_count": 331,
     "metadata": {},
     "output_type": "execute_result"
    }
   ],
   "source": [
    "from sklearn.svm import SVC\n",
    "classifier = SVC(kernel = 'linear', random_state = 0)\n",
    "results.append( cross_val_score(classifier, X_train, y_train, cv=kfold, scoring='accuracy'))\n",
    "names.append('SVM')\n",
    "results, names"
   ]
  },
  {
   "cell_type": "code",
   "execution_count": 332,
   "id": "9d0e81e1",
   "metadata": {},
   "outputs": [],
   "source": [
    "#naive bayes"
   ]
  },
  {
   "cell_type": "code",
   "execution_count": 333,
   "id": "2fc1f3dc",
   "metadata": {
    "scrolled": true
   },
   "outputs": [
    {
     "data": {
      "text/plain": [
       "([array([0.34285714, 0.31428571, 0.28571429]),\n",
       "  array([0.67857143, 0.55357143, 0.64285714]),\n",
       "  array([0.32142857, 0.58928571, 0.55357143])],\n",
       " ['KNN', 'SVM', 'NB'])"
      ]
     },
     "execution_count": 333,
     "metadata": {},
     "output_type": "execute_result"
    }
   ],
   "source": [
    "from sklearn.naive_bayes import GaussianNB\n",
    "classifier = GaussianNB()\n",
    "results.append( cross_val_score(classifier, X_train, y_train, cv=kfold, scoring='accuracy'))\n",
    "names.append('NB')\n",
    "results, names"
   ]
  },
  {
   "cell_type": "code",
   "execution_count": 334,
   "id": "bbabc40a",
   "metadata": {},
   "outputs": [],
   "source": [
    "#decision tree classifier"
   ]
  },
  {
   "cell_type": "code",
   "execution_count": 335,
   "id": "9fd5226a",
   "metadata": {},
   "outputs": [
    {
     "data": {
      "text/plain": [
       "([array([0.34285714, 0.31428571, 0.28571429]),\n",
       "  array([0.67857143, 0.55357143, 0.64285714]),\n",
       "  array([0.32142857, 0.58928571, 0.55357143]),\n",
       "  array([0.58928571, 0.73214286, 0.66071429])],\n",
       " ['KNN', 'SVM', 'NB', 'CART'])"
      ]
     },
     "execution_count": 335,
     "metadata": {},
     "output_type": "execute_result"
    }
   ],
   "source": [
    "from sklearn.tree import DecisionTreeClassifier\n",
    "classifier = DecisionTreeClassifier(criterion = 'entropy', random_state = 0)\n",
    "results.append( cross_val_score(classifier, X_train, y_train, cv=kfold, scoring='accuracy'))\n",
    "names.append('CART')\n",
    "results, names"
   ]
  },
  {
   "cell_type": "code",
   "execution_count": 336,
   "id": "c7e81b85",
   "metadata": {},
   "outputs": [],
   "source": [
    "# random forest classifier had best results"
   ]
  },
  {
   "cell_type": "code",
   "execution_count": 337,
   "id": "b484c9e4",
   "metadata": {},
   "outputs": [
    {
     "data": {
      "text/plain": [
       "([array([0.34285714, 0.31428571, 0.28571429]),\n",
       "  array([0.67857143, 0.55357143, 0.64285714]),\n",
       "  array([0.32142857, 0.58928571, 0.55357143]),\n",
       "  array([0.58928571, 0.73214286, 0.66071429]),\n",
       "  array([0.71428571, 0.69642857, 0.75      ])],\n",
       " ['KNN', 'SVM', 'NB', 'CART', 'RF'])"
      ]
     },
     "execution_count": 337,
     "metadata": {},
     "output_type": "execute_result"
    }
   ],
   "source": [
    "from sklearn.ensemble import RandomForestClassifier\n",
    "classifier = RandomForestClassifier(n_estimators = 20, criterion = 'entropy', random_state = 0)\n",
    "results.append( cross_val_score(classifier, X_train, y_train, cv=kfold, scoring='accuracy'))\n",
    "names.append('RF')\n",
    "results, names"
   ]
  },
  {
   "cell_type": "code",
   "execution_count": 338,
   "id": "c1015803",
   "metadata": {},
   "outputs": [],
   "source": [
    "# artificial neural network tracks well with stable learning, more data will improve the model here"
   ]
  },
  {
   "cell_type": "code",
   "execution_count": 339,
   "id": "4061463a",
   "metadata": {},
   "outputs": [
    {
     "name": "stdout",
     "output_type": "stream",
     "text": [
      "Requirement already satisfied: tensorflow in c:\\users\\nicholas\\anaconda3\\lib\\site-packages (2.8.0)\n",
      "Requirement already satisfied: absl-py>=0.4.0 in c:\\users\\nicholas\\anaconda3\\lib\\site-packages (from tensorflow) (1.0.0)\n",
      "Requirement already satisfied: astunparse>=1.6.0 in c:\\users\\nicholas\\anaconda3\\lib\\site-packages (from tensorflow) (1.6.3)\n",
      "Requirement already satisfied: gast>=0.2.1 in c:\\users\\nicholas\\anaconda3\\lib\\site-packages (from tensorflow) (0.5.3)\n",
      "Requirement already satisfied: google-pasta>=0.1.1 in c:\\users\\nicholas\\anaconda3\\lib\\site-packages (from tensorflow) (0.2.0)\n",
      "Requirement already satisfied: wrapt>=1.11.0 in c:\\users\\nicholas\\anaconda3\\lib\\site-packages (from tensorflow) (1.12.1)\n",
      "Requirement already satisfied: numpy>=1.20 in c:\\users\\nicholas\\anaconda3\\lib\\site-packages (from tensorflow) (1.20.1)\n",
      "Requirement already satisfied: flatbuffers>=1.12 in c:\\users\\nicholas\\anaconda3\\lib\\site-packages (from tensorflow) (2.0)\n",
      "Requirement already satisfied: tensorflow-io-gcs-filesystem>=0.23.1 in c:\\users\\nicholas\\anaconda3\\lib\\site-packages (from tensorflow) (0.24.0)\n",
      "Requirement already satisfied: setuptools in c:\\users\\nicholas\\anaconda3\\lib\\site-packages (from tensorflow) (52.0.0.post20210125)\n",
      "Requirement already satisfied: grpcio<2.0,>=1.24.3 in c:\\users\\nicholas\\anaconda3\\lib\\site-packages (from tensorflow) (1.44.0)\n",
      "Requirement already satisfied: opt-einsum>=2.3.2 in c:\\users\\nicholas\\anaconda3\\lib\\site-packages (from tensorflow) (3.3.0)\n",
      "Requirement already satisfied: tensorboard<2.9,>=2.8 in c:\\users\\nicholas\\anaconda3\\lib\\site-packages (from tensorflow) (2.8.0)\n",
      "Requirement already satisfied: keras<2.9,>=2.8.0rc0 in c:\\users\\nicholas\\anaconda3\\lib\\site-packages (from tensorflow) (2.8.0)\n",
      "Requirement already satisfied: six>=1.12.0 in c:\\users\\nicholas\\anaconda3\\lib\\site-packages (from tensorflow) (1.15.0)\n",
      "Requirement already satisfied: typing-extensions>=3.6.6 in c:\\users\\nicholas\\anaconda3\\lib\\site-packages (from tensorflow) (3.7.4.3)\n",
      "Requirement already satisfied: tf-estimator-nightly==2.8.0.dev2021122109 in c:\\users\\nicholas\\anaconda3\\lib\\site-packages (from tensorflow) (2.8.0.dev2021122109)\n",
      "Requirement already satisfied: h5py>=2.9.0 in c:\\users\\nicholas\\anaconda3\\lib\\site-packages (from tensorflow) (2.10.0)\n",
      "Requirement already satisfied: protobuf>=3.9.2 in c:\\users\\nicholas\\anaconda3\\lib\\site-packages (from tensorflow) (3.19.4)\n",
      "Requirement already satisfied: keras-preprocessing>=1.1.1 in c:\\users\\nicholas\\anaconda3\\lib\\site-packages (from tensorflow) (1.1.2)\n",
      "Requirement already satisfied: termcolor>=1.1.0 in c:\\users\\nicholas\\anaconda3\\lib\\site-packages (from tensorflow) (1.1.0)\n",
      "Requirement already satisfied: libclang>=9.0.1 in c:\\users\\nicholas\\anaconda3\\lib\\site-packages (from tensorflow) (13.0.0)\n",
      "Requirement already satisfied: wheel<1.0,>=0.23.0 in c:\\users\\nicholas\\anaconda3\\lib\\site-packages (from astunparse>=1.6.0->tensorflow) (0.36.2)\n",
      "Requirement already satisfied: markdown>=2.6.8 in c:\\users\\nicholas\\anaconda3\\lib\\site-packages (from tensorboard<2.9,>=2.8->tensorflow) (3.3.6)\n",
      "Requirement already satisfied: werkzeug>=0.11.15 in c:\\users\\nicholas\\anaconda3\\lib\\site-packages (from tensorboard<2.9,>=2.8->tensorflow) (1.0.1)\n",
      "Requirement already satisfied: requests<3,>=2.21.0 in c:\\users\\nicholas\\anaconda3\\lib\\site-packages (from tensorboard<2.9,>=2.8->tensorflow) (2.25.1)\n",
      "Requirement already satisfied: google-auth-oauthlib<0.5,>=0.4.1 in c:\\users\\nicholas\\anaconda3\\lib\\site-packages (from tensorboard<2.9,>=2.8->tensorflow) (0.4.6)\n",
      "Requirement already satisfied: tensorboard-plugin-wit>=1.6.0 in c:\\users\\nicholas\\anaconda3\\lib\\site-packages (from tensorboard<2.9,>=2.8->tensorflow) (1.8.1)\n",
      "Requirement already satisfied: google-auth<3,>=1.6.3 in c:\\users\\nicholas\\anaconda3\\lib\\site-packages (from tensorboard<2.9,>=2.8->tensorflow) (2.6.0)\n",
      "Requirement already satisfied: tensorboard-data-server<0.7.0,>=0.6.0 in c:\\users\\nicholas\\anaconda3\\lib\\site-packages (from tensorboard<2.9,>=2.8->tensorflow) (0.6.1)\n",
      "Requirement already satisfied: rsa<5,>=3.1.4 in c:\\users\\nicholas\\anaconda3\\lib\\site-packages (from google-auth<3,>=1.6.3->tensorboard<2.9,>=2.8->tensorflow) (4.8)\n",
      "Requirement already satisfied: cachetools<6.0,>=2.0.0 in c:\\users\\nicholas\\anaconda3\\lib\\site-packages (from google-auth<3,>=1.6.3->tensorboard<2.9,>=2.8->tensorflow) (5.0.0)\n",
      "Requirement already satisfied: pyasn1-modules>=0.2.1 in c:\\users\\nicholas\\anaconda3\\lib\\site-packages (from google-auth<3,>=1.6.3->tensorboard<2.9,>=2.8->tensorflow) (0.2.8)\n",
      "Requirement already satisfied: requests-oauthlib>=0.7.0 in c:\\users\\nicholas\\anaconda3\\lib\\site-packages (from google-auth-oauthlib<0.5,>=0.4.1->tensorboard<2.9,>=2.8->tensorflow) (1.3.1)\n",
      "Requirement already satisfied: importlib-metadata>=4.4 in c:\\users\\nicholas\\anaconda3\\lib\\site-packages (from markdown>=2.6.8->tensorboard<2.9,>=2.8->tensorflow) (4.11.2)\n",
      "Requirement already satisfied: zipp>=0.5 in c:\\users\\nicholas\\anaconda3\\lib\\site-packages (from importlib-metadata>=4.4->markdown>=2.6.8->tensorboard<2.9,>=2.8->tensorflow) (3.4.1)\n",
      "Requirement already satisfied: pyasn1<0.5.0,>=0.4.6 in c:\\users\\nicholas\\anaconda3\\lib\\site-packages (from pyasn1-modules>=0.2.1->google-auth<3,>=1.6.3->tensorboard<2.9,>=2.8->tensorflow) (0.4.8)\n",
      "Requirement already satisfied: certifi>=2017.4.17 in c:\\users\\nicholas\\anaconda3\\lib\\site-packages (from requests<3,>=2.21.0->tensorboard<2.9,>=2.8->tensorflow) (2020.12.5)\n",
      "Requirement already satisfied: idna<3,>=2.5 in c:\\users\\nicholas\\anaconda3\\lib\\site-packages (from requests<3,>=2.21.0->tensorboard<2.9,>=2.8->tensorflow) (2.10)\n",
      "Requirement already satisfied: chardet<5,>=3.0.2 in c:\\users\\nicholas\\anaconda3\\lib\\site-packages (from requests<3,>=2.21.0->tensorboard<2.9,>=2.8->tensorflow) (4.0.0)\n",
      "Requirement already satisfied: urllib3<1.27,>=1.21.1 in c:\\users\\nicholas\\anaconda3\\lib\\site-packages (from requests<3,>=2.21.0->tensorboard<2.9,>=2.8->tensorflow) (1.26.4)\n",
      "Requirement already satisfied: oauthlib>=3.0.0 in c:\\users\\nicholas\\anaconda3\\lib\\site-packages (from requests-oauthlib>=0.7.0->google-auth-oauthlib<0.5,>=0.4.1->tensorboard<2.9,>=2.8->tensorflow) (3.2.0)\n",
      "Note: you may need to restart the kernel to use updated packages.\n"
     ]
    }
   ],
   "source": [
    "pip install tensorflow"
   ]
  },
  {
   "cell_type": "code",
   "execution_count": 340,
   "id": "a7652798",
   "metadata": {},
   "outputs": [],
   "source": [
    "import tensorflow as tf"
   ]
  },
  {
   "cell_type": "code",
   "execution_count": 341,
   "id": "22b2d978",
   "metadata": {},
   "outputs": [],
   "source": [
    "#create the neural network"
   ]
  },
  {
   "cell_type": "code",
   "execution_count": 342,
   "id": "6bbe89a3",
   "metadata": {},
   "outputs": [],
   "source": [
    "# Set random seed\n",
    "tf.random.set_seed(42)\n",
    "\n",
    "# Create the model\n",
    "glass_model = tf.keras.Sequential([\n",
    "  tf.keras.layers.Dense(8, activation=\"relu\"),\n",
    "  tf.keras.layers.Dense(6, activation=\"softmax\") \n",
    "])\n",
    "\n",
    "# Compile the model\n",
    "glass_model.compile(loss=tf.keras.losses.CategoricalCrossentropy(),\n",
    "                 optimizer=tf.keras.optimizers.Adam(),\n",
    "                 metrics=[\"accuracy\"])"
   ]
  },
  {
   "cell_type": "code",
   "execution_count": 343,
   "id": "58fd9079",
   "metadata": {},
   "outputs": [],
   "source": [
    "#create one hot categorical encoding for output variables 0-6"
   ]
  },
  {
   "cell_type": "code",
   "execution_count": 344,
   "id": "6d30fcf0",
   "metadata": {},
   "outputs": [
    {
     "data": {
      "text/plain": [
       "((168,), (168, 9))"
      ]
     },
     "execution_count": 344,
     "metadata": {},
     "output_type": "execute_result"
    }
   ],
   "source": [
    "y_train.shape, X_train.shape\n"
   ]
  },
  {
   "cell_type": "code",
   "execution_count": 345,
   "id": "971e0b5c",
   "metadata": {},
   "outputs": [
    {
     "data": {
      "text/plain": [
       "((168, 6), (42, 6))"
      ]
     },
     "execution_count": 345,
     "metadata": {},
     "output_type": "execute_result"
    }
   ],
   "source": [
    "from tensorflow.keras.utils import to_categorical\n",
    "one_hot_y_train= to_categorical(y_train, num_classes=6)\n",
    "one_hot_y_test = to_categorical(y_test, num_classes=6)\n",
    "one_hot_y_train.shape, one_hot_y_test.shape"
   ]
  },
  {
   "cell_type": "code",
   "execution_count": 346,
   "id": "54281830",
   "metadata": {},
   "outputs": [
    {
     "data": {
      "text/plain": [
       "array([0., 1., 0., 0., 0., 0.], dtype=float32)"
      ]
     },
     "execution_count": 346,
     "metadata": {},
     "output_type": "execute_result"
    }
   ],
   "source": [
    "one_hot_y_train[0]"
   ]
  },
  {
   "cell_type": "code",
   "execution_count": 347,
   "id": "828d12b6",
   "metadata": {},
   "outputs": [],
   "source": [
    "# Setup EarlyStopping callback to stop training if model's val_loss doesn't improve for x epochs\n",
    "early_stopping = tf.keras.callbacks.EarlyStopping(monitor=\"val_loss\", # watch the val loss metric\n",
    "                                                  patience=10) # if val loss decreases for 10 epochs in a row, stop training"
   ]
  },
  {
   "cell_type": "code",
   "execution_count": 348,
   "id": "c723d0e8",
   "metadata": {},
   "outputs": [
    {
     "name": "stdout",
     "output_type": "stream",
     "text": [
      "Epoch 1/200\n",
      "6/6 [==============================] - 1s 49ms/step - loss: 2.0072 - accuracy: 0.1429 - val_loss: 2.0839 - val_accuracy: 0.1905\n",
      "Epoch 2/200\n",
      "6/6 [==============================] - 0s 17ms/step - loss: 1.9704 - accuracy: 0.1667 - val_loss: 2.0509 - val_accuracy: 0.1905\n",
      "Epoch 3/200\n",
      "6/6 [==============================] - 0s 10ms/step - loss: 1.9347 - accuracy: 0.1964 - val_loss: 2.0200 - val_accuracy: 0.1905\n",
      "Epoch 4/200\n",
      "6/6 [==============================] - 0s 36ms/step - loss: 1.9020 - accuracy: 0.2202 - val_loss: 1.9907 - val_accuracy: 0.2143\n",
      "Epoch 5/200\n",
      "6/6 [==============================] - 0s 37ms/step - loss: 1.8697 - accuracy: 0.2857 - val_loss: 1.9633 - val_accuracy: 0.2619\n",
      "Epoch 6/200\n",
      "6/6 [==============================] - 0s 30ms/step - loss: 1.8402 - accuracy: 0.3155 - val_loss: 1.9363 - val_accuracy: 0.3333\n",
      "Epoch 7/200\n",
      "6/6 [==============================] - 0s 25ms/step - loss: 1.8109 - accuracy: 0.3512 - val_loss: 1.9105 - val_accuracy: 0.3810\n",
      "Epoch 8/200\n",
      "6/6 [==============================] - 0s 20ms/step - loss: 1.7826 - accuracy: 0.3750 - val_loss: 1.8865 - val_accuracy: 0.3810\n",
      "Epoch 9/200\n",
      "6/6 [==============================] - 0s 8ms/step - loss: 1.7539 - accuracy: 0.3810 - val_loss: 1.8625 - val_accuracy: 0.3810\n",
      "Epoch 10/200\n",
      "6/6 [==============================] - 0s 7ms/step - loss: 1.7268 - accuracy: 0.3929 - val_loss: 1.8389 - val_accuracy: 0.3810\n",
      "Epoch 11/200\n",
      "6/6 [==============================] - 0s 8ms/step - loss: 1.7011 - accuracy: 0.3988 - val_loss: 1.8168 - val_accuracy: 0.3810\n",
      "Epoch 12/200\n",
      "6/6 [==============================] - 0s 7ms/step - loss: 1.6764 - accuracy: 0.4107 - val_loss: 1.7956 - val_accuracy: 0.3810\n",
      "Epoch 13/200\n",
      "6/6 [==============================] - 0s 7ms/step - loss: 1.6524 - accuracy: 0.4107 - val_loss: 1.7760 - val_accuracy: 0.3810\n",
      "Epoch 14/200\n",
      "6/6 [==============================] - 0s 6ms/step - loss: 1.6305 - accuracy: 0.4107 - val_loss: 1.7580 - val_accuracy: 0.3571\n",
      "Epoch 15/200\n",
      "6/6 [==============================] - 0s 7ms/step - loss: 1.6094 - accuracy: 0.4167 - val_loss: 1.7402 - val_accuracy: 0.3571\n",
      "Epoch 16/200\n",
      "6/6 [==============================] - 0s 7ms/step - loss: 1.5886 - accuracy: 0.4167 - val_loss: 1.7228 - val_accuracy: 0.3333\n",
      "Epoch 17/200\n",
      "6/6 [==============================] - 0s 7ms/step - loss: 1.5709 - accuracy: 0.4226 - val_loss: 1.7059 - val_accuracy: 0.3333\n",
      "Epoch 18/200\n",
      "6/6 [==============================] - 0s 6ms/step - loss: 1.5518 - accuracy: 0.4226 - val_loss: 1.6901 - val_accuracy: 0.3333\n",
      "Epoch 19/200\n",
      "6/6 [==============================] - 0s 6ms/step - loss: 1.5344 - accuracy: 0.4226 - val_loss: 1.6755 - val_accuracy: 0.3333\n",
      "Epoch 20/200\n",
      "6/6 [==============================] - 0s 7ms/step - loss: 1.5175 - accuracy: 0.4226 - val_loss: 1.6617 - val_accuracy: 0.3333\n",
      "Epoch 21/200\n",
      "6/6 [==============================] - 0s 8ms/step - loss: 1.5015 - accuracy: 0.4286 - val_loss: 1.6480 - val_accuracy: 0.3333\n",
      "Epoch 22/200\n",
      "6/6 [==============================] - 0s 8ms/step - loss: 1.4855 - accuracy: 0.4286 - val_loss: 1.6346 - val_accuracy: 0.3333\n",
      "Epoch 23/200\n",
      "6/6 [==============================] - 0s 6ms/step - loss: 1.4697 - accuracy: 0.4286 - val_loss: 1.6220 - val_accuracy: 0.3333\n",
      "Epoch 24/200\n",
      "6/6 [==============================] - 0s 7ms/step - loss: 1.4550 - accuracy: 0.4226 - val_loss: 1.6092 - val_accuracy: 0.3095\n",
      "Epoch 25/200\n",
      "6/6 [==============================] - 0s 7ms/step - loss: 1.4398 - accuracy: 0.4226 - val_loss: 1.5969 - val_accuracy: 0.3095\n",
      "Epoch 26/200\n",
      "6/6 [==============================] - 0s 6ms/step - loss: 1.4255 - accuracy: 0.4286 - val_loss: 1.5843 - val_accuracy: 0.3095\n",
      "Epoch 27/200\n",
      "6/6 [==============================] - 0s 9ms/step - loss: 1.4121 - accuracy: 0.4286 - val_loss: 1.5724 - val_accuracy: 0.3095\n",
      "Epoch 28/200\n",
      "6/6 [==============================] - 0s 9ms/step - loss: 1.3985 - accuracy: 0.4286 - val_loss: 1.5609 - val_accuracy: 0.3095\n",
      "Epoch 29/200\n",
      "6/6 [==============================] - 0s 13ms/step - loss: 1.3850 - accuracy: 0.4345 - val_loss: 1.5501 - val_accuracy: 0.3095\n",
      "Epoch 30/200\n",
      "6/6 [==============================] - 0s 8ms/step - loss: 1.3727 - accuracy: 0.4345 - val_loss: 1.5397 - val_accuracy: 0.3095\n",
      "Epoch 31/200\n",
      "6/6 [==============================] - 0s 8ms/step - loss: 1.3604 - accuracy: 0.4286 - val_loss: 1.5291 - val_accuracy: 0.3095\n",
      "Epoch 32/200\n",
      "6/6 [==============================] - 0s 10ms/step - loss: 1.3485 - accuracy: 0.4345 - val_loss: 1.5188 - val_accuracy: 0.3095\n",
      "Epoch 33/200\n",
      "6/6 [==============================] - 0s 10ms/step - loss: 1.3367 - accuracy: 0.4345 - val_loss: 1.5089 - val_accuracy: 0.3095\n",
      "Epoch 34/200\n",
      "6/6 [==============================] - 0s 12ms/step - loss: 1.3253 - accuracy: 0.4464 - val_loss: 1.4992 - val_accuracy: 0.3095\n",
      "Epoch 35/200\n",
      "6/6 [==============================] - 0s 9ms/step - loss: 1.3139 - accuracy: 0.4464 - val_loss: 1.4902 - val_accuracy: 0.3095\n",
      "Epoch 36/200\n",
      "6/6 [==============================] - 0s 8ms/step - loss: 1.3030 - accuracy: 0.4464 - val_loss: 1.4816 - val_accuracy: 0.3095\n",
      "Epoch 37/200\n",
      "6/6 [==============================] - 0s 7ms/step - loss: 1.2928 - accuracy: 0.4524 - val_loss: 1.4733 - val_accuracy: 0.3095\n",
      "Epoch 38/200\n",
      "6/6 [==============================] - 0s 8ms/step - loss: 1.2826 - accuracy: 0.4524 - val_loss: 1.4651 - val_accuracy: 0.3095\n",
      "Epoch 39/200\n",
      "6/6 [==============================] - 0s 7ms/step - loss: 1.2730 - accuracy: 0.4524 - val_loss: 1.4568 - val_accuracy: 0.3095\n",
      "Epoch 40/200\n",
      "6/6 [==============================] - 0s 7ms/step - loss: 1.2638 - accuracy: 0.4643 - val_loss: 1.4486 - val_accuracy: 0.3095\n",
      "Epoch 41/200\n",
      "6/6 [==============================] - 0s 8ms/step - loss: 1.2546 - accuracy: 0.4643 - val_loss: 1.4411 - val_accuracy: 0.3095\n",
      "Epoch 42/200\n",
      "6/6 [==============================] - 0s 8ms/step - loss: 1.2457 - accuracy: 0.4643 - val_loss: 1.4334 - val_accuracy: 0.3095\n",
      "Epoch 43/200\n",
      "6/6 [==============================] - 0s 7ms/step - loss: 1.2371 - accuracy: 0.4643 - val_loss: 1.4255 - val_accuracy: 0.3333\n",
      "Epoch 44/200\n",
      "6/6 [==============================] - 0s 6ms/step - loss: 1.2289 - accuracy: 0.4762 - val_loss: 1.4180 - val_accuracy: 0.3333\n",
      "Epoch 45/200\n",
      "6/6 [==============================] - 0s 8ms/step - loss: 1.2209 - accuracy: 0.4762 - val_loss: 1.4106 - val_accuracy: 0.3333\n",
      "Epoch 46/200\n",
      "6/6 [==============================] - 0s 7ms/step - loss: 1.2125 - accuracy: 0.4762 - val_loss: 1.4042 - val_accuracy: 0.3333\n",
      "Epoch 47/200\n",
      "6/6 [==============================] - 0s 8ms/step - loss: 1.2051 - accuracy: 0.4762 - val_loss: 1.3968 - val_accuracy: 0.3333\n",
      "Epoch 48/200\n",
      "6/6 [==============================] - 0s 10ms/step - loss: 1.1970 - accuracy: 0.4762 - val_loss: 1.3900 - val_accuracy: 0.3333\n",
      "Epoch 49/200\n",
      "6/6 [==============================] - 0s 7ms/step - loss: 1.1896 - accuracy: 0.4821 - val_loss: 1.3827 - val_accuracy: 0.3333\n",
      "Epoch 50/200\n",
      "6/6 [==============================] - 0s 7ms/step - loss: 1.1820 - accuracy: 0.4881 - val_loss: 1.3752 - val_accuracy: 0.3333\n",
      "Epoch 51/200\n",
      "6/6 [==============================] - 0s 11ms/step - loss: 1.1746 - accuracy: 0.4821 - val_loss: 1.3681 - val_accuracy: 0.3571\n",
      "Epoch 52/200\n",
      "6/6 [==============================] - 0s 7ms/step - loss: 1.1673 - accuracy: 0.4821 - val_loss: 1.3605 - val_accuracy: 0.3810\n",
      "Epoch 53/200\n",
      "6/6 [==============================] - 0s 7ms/step - loss: 1.1602 - accuracy: 0.4821 - val_loss: 1.3537 - val_accuracy: 0.3810\n",
      "Epoch 54/200\n",
      "6/6 [==============================] - 0s 11ms/step - loss: 1.1532 - accuracy: 0.4881 - val_loss: 1.3470 - val_accuracy: 0.3810\n",
      "Epoch 55/200\n",
      "6/6 [==============================] - 0s 9ms/step - loss: 1.1468 - accuracy: 0.4881 - val_loss: 1.3404 - val_accuracy: 0.3810\n",
      "Epoch 56/200\n",
      "6/6 [==============================] - 0s 8ms/step - loss: 1.1403 - accuracy: 0.4881 - val_loss: 1.3339 - val_accuracy: 0.4286\n",
      "Epoch 57/200\n",
      "6/6 [==============================] - 0s 8ms/step - loss: 1.1338 - accuracy: 0.4821 - val_loss: 1.3278 - val_accuracy: 0.4524\n",
      "Epoch 58/200\n",
      "6/6 [==============================] - 0s 7ms/step - loss: 1.1281 - accuracy: 0.4881 - val_loss: 1.3217 - val_accuracy: 0.4524\n",
      "Epoch 59/200\n"
     ]
    },
    {
     "name": "stdout",
     "output_type": "stream",
     "text": [
      "6/6 [==============================] - 0s 8ms/step - loss: 1.1221 - accuracy: 0.4821 - val_loss: 1.3158 - val_accuracy: 0.4762\n",
      "Epoch 60/200\n",
      "6/6 [==============================] - 0s 9ms/step - loss: 1.1159 - accuracy: 0.4821 - val_loss: 1.3091 - val_accuracy: 0.4762\n",
      "Epoch 61/200\n",
      "6/6 [==============================] - 0s 9ms/step - loss: 1.1101 - accuracy: 0.4821 - val_loss: 1.3024 - val_accuracy: 0.4762\n",
      "Epoch 62/200\n",
      "6/6 [==============================] - 0s 12ms/step - loss: 1.1042 - accuracy: 0.4762 - val_loss: 1.2965 - val_accuracy: 0.4762\n",
      "Epoch 63/200\n",
      "6/6 [==============================] - 0s 8ms/step - loss: 1.0988 - accuracy: 0.4821 - val_loss: 1.2905 - val_accuracy: 0.4762\n",
      "Epoch 64/200\n",
      "6/6 [==============================] - 0s 8ms/step - loss: 1.0934 - accuracy: 0.4821 - val_loss: 1.2843 - val_accuracy: 0.4762\n",
      "Epoch 65/200\n",
      "6/6 [==============================] - 0s 8ms/step - loss: 1.0880 - accuracy: 0.4821 - val_loss: 1.2785 - val_accuracy: 0.5000\n",
      "Epoch 66/200\n",
      "6/6 [==============================] - 0s 8ms/step - loss: 1.0822 - accuracy: 0.4940 - val_loss: 1.2727 - val_accuracy: 0.5000\n",
      "Epoch 67/200\n",
      "6/6 [==============================] - 0s 6ms/step - loss: 1.0766 - accuracy: 0.5000 - val_loss: 1.2669 - val_accuracy: 0.5000\n",
      "Epoch 68/200\n",
      "6/6 [==============================] - 0s 10ms/step - loss: 1.0709 - accuracy: 0.4940 - val_loss: 1.2610 - val_accuracy: 0.5000\n",
      "Epoch 69/200\n",
      "6/6 [==============================] - 0s 8ms/step - loss: 1.0653 - accuracy: 0.4940 - val_loss: 1.2550 - val_accuracy: 0.5238\n",
      "Epoch 70/200\n",
      "6/6 [==============================] - 0s 10ms/step - loss: 1.0599 - accuracy: 0.4940 - val_loss: 1.2493 - val_accuracy: 0.5238\n",
      "Epoch 71/200\n",
      "6/6 [==============================] - 0s 10ms/step - loss: 1.0542 - accuracy: 0.5000 - val_loss: 1.2445 - val_accuracy: 0.5238\n",
      "Epoch 72/200\n",
      "6/6 [==============================] - 0s 8ms/step - loss: 1.0489 - accuracy: 0.5000 - val_loss: 1.2395 - val_accuracy: 0.5476\n",
      "Epoch 73/200\n",
      "6/6 [==============================] - 0s 7ms/step - loss: 1.0437 - accuracy: 0.5119 - val_loss: 1.2336 - val_accuracy: 0.5476\n",
      "Epoch 74/200\n",
      "6/6 [==============================] - 0s 10ms/step - loss: 1.0378 - accuracy: 0.5060 - val_loss: 1.2273 - val_accuracy: 0.5476\n",
      "Epoch 75/200\n",
      "6/6 [==============================] - 0s 13ms/step - loss: 1.0324 - accuracy: 0.5179 - val_loss: 1.2215 - val_accuracy: 0.5714\n",
      "Epoch 76/200\n",
      "6/6 [==============================] - 0s 8ms/step - loss: 1.0273 - accuracy: 0.5238 - val_loss: 1.2152 - val_accuracy: 0.5714\n",
      "Epoch 77/200\n",
      "6/6 [==============================] - 0s 19ms/step - loss: 1.0219 - accuracy: 0.5238 - val_loss: 1.2101 - val_accuracy: 0.5714\n",
      "Epoch 78/200\n",
      "6/6 [==============================] - 0s 16ms/step - loss: 1.0169 - accuracy: 0.5298 - val_loss: 1.2048 - val_accuracy: 0.5714\n",
      "Epoch 79/200\n",
      "6/6 [==============================] - 0s 10ms/step - loss: 1.0116 - accuracy: 0.5298 - val_loss: 1.1998 - val_accuracy: 0.5714\n",
      "Epoch 80/200\n",
      "6/6 [==============================] - 0s 10ms/step - loss: 1.0067 - accuracy: 0.5357 - val_loss: 1.1951 - val_accuracy: 0.5952\n",
      "Epoch 81/200\n",
      "6/6 [==============================] - 0s 10ms/step - loss: 1.0018 - accuracy: 0.5536 - val_loss: 1.1908 - val_accuracy: 0.5952\n",
      "Epoch 82/200\n",
      "6/6 [==============================] - 0s 7ms/step - loss: 0.9969 - accuracy: 0.5536 - val_loss: 1.1862 - val_accuracy: 0.5952\n",
      "Epoch 83/200\n",
      "6/6 [==============================] - 0s 8ms/step - loss: 0.9921 - accuracy: 0.5595 - val_loss: 1.1816 - val_accuracy: 0.6190\n",
      "Epoch 84/200\n",
      "6/6 [==============================] - 0s 7ms/step - loss: 0.9875 - accuracy: 0.5595 - val_loss: 1.1769 - val_accuracy: 0.6190\n",
      "Epoch 85/200\n",
      "6/6 [==============================] - 0s 9ms/step - loss: 0.9828 - accuracy: 0.5655 - val_loss: 1.1720 - val_accuracy: 0.6190\n",
      "Epoch 86/200\n",
      "6/6 [==============================] - 0s 15ms/step - loss: 0.9785 - accuracy: 0.5714 - val_loss: 1.1675 - val_accuracy: 0.6190\n",
      "Epoch 87/200\n",
      "6/6 [==============================] - 0s 11ms/step - loss: 0.9744 - accuracy: 0.5833 - val_loss: 1.1627 - val_accuracy: 0.6190\n",
      "Epoch 88/200\n",
      "6/6 [==============================] - 0s 15ms/step - loss: 0.9703 - accuracy: 0.5833 - val_loss: 1.1579 - val_accuracy: 0.6190\n",
      "Epoch 89/200\n",
      "6/6 [==============================] - 0s 10ms/step - loss: 0.9661 - accuracy: 0.5893 - val_loss: 1.1536 - val_accuracy: 0.6190\n",
      "Epoch 90/200\n",
      "6/6 [==============================] - 0s 13ms/step - loss: 0.9621 - accuracy: 0.5952 - val_loss: 1.1492 - val_accuracy: 0.6190\n",
      "Epoch 91/200\n",
      "6/6 [==============================] - 0s 10ms/step - loss: 0.9577 - accuracy: 0.5952 - val_loss: 1.1452 - val_accuracy: 0.6190\n",
      "Epoch 92/200\n",
      "6/6 [==============================] - 0s 9ms/step - loss: 0.9536 - accuracy: 0.5952 - val_loss: 1.1414 - val_accuracy: 0.6190\n",
      "Epoch 93/200\n",
      "6/6 [==============================] - 0s 11ms/step - loss: 0.9494 - accuracy: 0.5952 - val_loss: 1.1375 - val_accuracy: 0.6190\n",
      "Epoch 94/200\n",
      "6/6 [==============================] - 0s 7ms/step - loss: 0.9452 - accuracy: 0.6012 - val_loss: 1.1332 - val_accuracy: 0.6190\n",
      "Epoch 95/200\n",
      "6/6 [==============================] - 0s 7ms/step - loss: 0.9414 - accuracy: 0.6012 - val_loss: 1.1284 - val_accuracy: 0.6190\n",
      "Epoch 96/200\n",
      "6/6 [==============================] - 0s 9ms/step - loss: 0.9371 - accuracy: 0.6071 - val_loss: 1.1236 - val_accuracy: 0.6190\n",
      "Epoch 97/200\n",
      "6/6 [==============================] - 0s 8ms/step - loss: 0.9333 - accuracy: 0.6071 - val_loss: 1.1191 - val_accuracy: 0.6190\n",
      "Epoch 98/200\n",
      "6/6 [==============================] - 0s 7ms/step - loss: 0.9296 - accuracy: 0.6071 - val_loss: 1.1153 - val_accuracy: 0.6190\n",
      "Epoch 99/200\n",
      "6/6 [==============================] - 0s 13ms/step - loss: 0.9257 - accuracy: 0.6071 - val_loss: 1.1120 - val_accuracy: 0.6190\n",
      "Epoch 100/200\n",
      "6/6 [==============================] - 0s 7ms/step - loss: 0.9220 - accuracy: 0.6071 - val_loss: 1.1084 - val_accuracy: 0.6190\n",
      "Epoch 101/200\n",
      "6/6 [==============================] - 0s 7ms/step - loss: 0.9183 - accuracy: 0.6071 - val_loss: 1.1050 - val_accuracy: 0.6190\n",
      "Epoch 102/200\n",
      "6/6 [==============================] - 0s 11ms/step - loss: 0.9148 - accuracy: 0.6071 - val_loss: 1.1024 - val_accuracy: 0.6190\n",
      "Epoch 103/200\n",
      "6/6 [==============================] - 0s 9ms/step - loss: 0.9113 - accuracy: 0.6131 - val_loss: 1.0998 - val_accuracy: 0.6190\n",
      "Epoch 104/200\n",
      "6/6 [==============================] - 0s 7ms/step - loss: 0.9074 - accuracy: 0.6190 - val_loss: 1.0978 - val_accuracy: 0.6190\n",
      "Epoch 105/200\n",
      "6/6 [==============================] - 0s 8ms/step - loss: 0.9038 - accuracy: 0.6250 - val_loss: 1.0949 - val_accuracy: 0.6190\n",
      "Epoch 106/200\n",
      "6/6 [==============================] - 0s 8ms/step - loss: 0.9000 - accuracy: 0.6250 - val_loss: 1.0924 - val_accuracy: 0.6190\n",
      "Epoch 107/200\n",
      "6/6 [==============================] - 0s 7ms/step - loss: 0.8963 - accuracy: 0.6250 - val_loss: 1.0901 - val_accuracy: 0.6190\n",
      "Epoch 108/200\n",
      "6/6 [==============================] - 0s 7ms/step - loss: 0.8929 - accuracy: 0.6310 - val_loss: 1.0876 - val_accuracy: 0.6190\n",
      "Epoch 109/200\n",
      "6/6 [==============================] - 0s 8ms/step - loss: 0.8894 - accuracy: 0.6429 - val_loss: 1.0840 - val_accuracy: 0.6429\n",
      "Epoch 110/200\n",
      "6/6 [==============================] - 0s 10ms/step - loss: 0.8858 - accuracy: 0.6429 - val_loss: 1.0812 - val_accuracy: 0.6429\n",
      "Epoch 111/200\n",
      "6/6 [==============================] - 0s 11ms/step - loss: 0.8821 - accuracy: 0.6429 - val_loss: 1.0783 - val_accuracy: 0.6429\n",
      "Epoch 112/200\n",
      "6/6 [==============================] - 0s 8ms/step - loss: 0.8788 - accuracy: 0.6429 - val_loss: 1.0754 - val_accuracy: 0.6429\n",
      "Epoch 113/200\n",
      "6/6 [==============================] - 0s 10ms/step - loss: 0.8755 - accuracy: 0.6488 - val_loss: 1.0734 - val_accuracy: 0.6429\n",
      "Epoch 114/200\n",
      "6/6 [==============================] - 0s 9ms/step - loss: 0.8724 - accuracy: 0.6548 - val_loss: 1.0716 - val_accuracy: 0.6429\n",
      "Epoch 115/200\n",
      "6/6 [==============================] - 0s 13ms/step - loss: 0.8693 - accuracy: 0.6548 - val_loss: 1.0699 - val_accuracy: 0.6429\n",
      "Epoch 116/200\n",
      "6/6 [==============================] - 0s 9ms/step - loss: 0.8663 - accuracy: 0.6548 - val_loss: 1.0680 - val_accuracy: 0.6429\n",
      "Epoch 117/200\n"
     ]
    },
    {
     "name": "stdout",
     "output_type": "stream",
     "text": [
      "6/6 [==============================] - 0s 9ms/step - loss: 0.8632 - accuracy: 0.6667 - val_loss: 1.0660 - val_accuracy: 0.6429\n",
      "Epoch 118/200\n",
      "6/6 [==============================] - 0s 15ms/step - loss: 0.8601 - accuracy: 0.6726 - val_loss: 1.0635 - val_accuracy: 0.6429\n",
      "Epoch 119/200\n",
      "6/6 [==============================] - 0s 11ms/step - loss: 0.8568 - accuracy: 0.6726 - val_loss: 1.0622 - val_accuracy: 0.6429\n",
      "Epoch 120/200\n",
      "6/6 [==============================] - 0s 20ms/step - loss: 0.8538 - accuracy: 0.6726 - val_loss: 1.0616 - val_accuracy: 0.6429\n",
      "Epoch 121/200\n",
      "6/6 [==============================] - 0s 9ms/step - loss: 0.8506 - accuracy: 0.6726 - val_loss: 1.0610 - val_accuracy: 0.6429\n",
      "Epoch 122/200\n",
      "6/6 [==============================] - 0s 10ms/step - loss: 0.8476 - accuracy: 0.6726 - val_loss: 1.0592 - val_accuracy: 0.6429\n",
      "Epoch 123/200\n",
      "6/6 [==============================] - 0s 16ms/step - loss: 0.8446 - accuracy: 0.6786 - val_loss: 1.0580 - val_accuracy: 0.6429\n",
      "Epoch 124/200\n",
      "6/6 [==============================] - 0s 12ms/step - loss: 0.8419 - accuracy: 0.6726 - val_loss: 1.0559 - val_accuracy: 0.6429\n",
      "Epoch 125/200\n",
      "6/6 [==============================] - 0s 10ms/step - loss: 0.8391 - accuracy: 0.6786 - val_loss: 1.0543 - val_accuracy: 0.6429\n",
      "Epoch 126/200\n",
      "6/6 [==============================] - 0s 14ms/step - loss: 0.8365 - accuracy: 0.6845 - val_loss: 1.0528 - val_accuracy: 0.6429\n",
      "Epoch 127/200\n",
      "6/6 [==============================] - 0s 15ms/step - loss: 0.8336 - accuracy: 0.6845 - val_loss: 1.0518 - val_accuracy: 0.6429\n",
      "Epoch 128/200\n",
      "6/6 [==============================] - 0s 24ms/step - loss: 0.8310 - accuracy: 0.6905 - val_loss: 1.0506 - val_accuracy: 0.6429\n",
      "Epoch 129/200\n",
      "6/6 [==============================] - 0s 9ms/step - loss: 0.8282 - accuracy: 0.6905 - val_loss: 1.0497 - val_accuracy: 0.6429\n",
      "Epoch 130/200\n",
      "6/6 [==============================] - 0s 12ms/step - loss: 0.8256 - accuracy: 0.6905 - val_loss: 1.0490 - val_accuracy: 0.6429\n",
      "Epoch 131/200\n",
      "6/6 [==============================] - 0s 10ms/step - loss: 0.8231 - accuracy: 0.6905 - val_loss: 1.0481 - val_accuracy: 0.6429\n",
      "Epoch 132/200\n",
      "6/6 [==============================] - 0s 12ms/step - loss: 0.8211 - accuracy: 0.6905 - val_loss: 1.0468 - val_accuracy: 0.6429\n",
      "Epoch 133/200\n",
      "6/6 [==============================] - 0s 11ms/step - loss: 0.8180 - accuracy: 0.6964 - val_loss: 1.0457 - val_accuracy: 0.6429\n",
      "Epoch 134/200\n",
      "6/6 [==============================] - 0s 11ms/step - loss: 0.8155 - accuracy: 0.6964 - val_loss: 1.0448 - val_accuracy: 0.6429\n",
      "Epoch 135/200\n",
      "6/6 [==============================] - 0s 10ms/step - loss: 0.8132 - accuracy: 0.6964 - val_loss: 1.0444 - val_accuracy: 0.6429\n",
      "Epoch 136/200\n",
      "6/6 [==============================] - 0s 22ms/step - loss: 0.8106 - accuracy: 0.6964 - val_loss: 1.0434 - val_accuracy: 0.6429\n",
      "Epoch 137/200\n",
      "6/6 [==============================] - 0s 15ms/step - loss: 0.8083 - accuracy: 0.6905 - val_loss: 1.0428 - val_accuracy: 0.6429\n",
      "Epoch 138/200\n",
      "6/6 [==============================] - 0s 11ms/step - loss: 0.8060 - accuracy: 0.6964 - val_loss: 1.0420 - val_accuracy: 0.6429\n",
      "Epoch 139/200\n",
      "6/6 [==============================] - 0s 10ms/step - loss: 0.8038 - accuracy: 0.6964 - val_loss: 1.0407 - val_accuracy: 0.6429\n",
      "Epoch 140/200\n",
      "6/6 [==============================] - 0s 14ms/step - loss: 0.8014 - accuracy: 0.6964 - val_loss: 1.0401 - val_accuracy: 0.6429\n",
      "Epoch 141/200\n",
      "6/6 [==============================] - 0s 9ms/step - loss: 0.7990 - accuracy: 0.7024 - val_loss: 1.0394 - val_accuracy: 0.6429\n",
      "Epoch 142/200\n",
      "6/6 [==============================] - 0s 9ms/step - loss: 0.7967 - accuracy: 0.7024 - val_loss: 1.0390 - val_accuracy: 0.6429\n",
      "Epoch 143/200\n",
      "6/6 [==============================] - 0s 11ms/step - loss: 0.7946 - accuracy: 0.7024 - val_loss: 1.0392 - val_accuracy: 0.6429\n",
      "Epoch 144/200\n",
      "6/6 [==============================] - 0s 15ms/step - loss: 0.7922 - accuracy: 0.7024 - val_loss: 1.0389 - val_accuracy: 0.6429\n",
      "Epoch 145/200\n",
      "6/6 [==============================] - 0s 15ms/step - loss: 0.7899 - accuracy: 0.7083 - val_loss: 1.0380 - val_accuracy: 0.6429\n",
      "Epoch 146/200\n",
      "6/6 [==============================] - 0s 9ms/step - loss: 0.7880 - accuracy: 0.7083 - val_loss: 1.0368 - val_accuracy: 0.6667\n",
      "Epoch 147/200\n",
      "6/6 [==============================] - 0s 9ms/step - loss: 0.7853 - accuracy: 0.7083 - val_loss: 1.0358 - val_accuracy: 0.6667\n",
      "Epoch 148/200\n",
      "6/6 [==============================] - 0s 8ms/step - loss: 0.7831 - accuracy: 0.7083 - val_loss: 1.0355 - val_accuracy: 0.6667\n",
      "Epoch 149/200\n",
      "6/6 [==============================] - 0s 6ms/step - loss: 0.7809 - accuracy: 0.7083 - val_loss: 1.0348 - val_accuracy: 0.6667\n",
      "Epoch 150/200\n",
      "6/6 [==============================] - 0s 8ms/step - loss: 0.7788 - accuracy: 0.7083 - val_loss: 1.0350 - val_accuracy: 0.6667\n",
      "Epoch 151/200\n",
      "6/6 [==============================] - 0s 14ms/step - loss: 0.7765 - accuracy: 0.7083 - val_loss: 1.0354 - val_accuracy: 0.6667\n",
      "Epoch 152/200\n",
      "6/6 [==============================] - 0s 8ms/step - loss: 0.7745 - accuracy: 0.7083 - val_loss: 1.0357 - val_accuracy: 0.6667\n",
      "Epoch 153/200\n",
      "6/6 [==============================] - 0s 12ms/step - loss: 0.7725 - accuracy: 0.7083 - val_loss: 1.0356 - val_accuracy: 0.6667\n",
      "Epoch 154/200\n",
      "6/6 [==============================] - 0s 8ms/step - loss: 0.7705 - accuracy: 0.7083 - val_loss: 1.0354 - val_accuracy: 0.6905\n",
      "Epoch 155/200\n",
      "6/6 [==============================] - 0s 8ms/step - loss: 0.7685 - accuracy: 0.7083 - val_loss: 1.0356 - val_accuracy: 0.6905\n",
      "Epoch 156/200\n",
      "6/6 [==============================] - 0s 9ms/step - loss: 0.7664 - accuracy: 0.7083 - val_loss: 1.0362 - val_accuracy: 0.6905\n",
      "Epoch 157/200\n",
      "6/6 [==============================] - 0s 8ms/step - loss: 0.7645 - accuracy: 0.7083 - val_loss: 1.0364 - val_accuracy: 0.7143\n",
      "Epoch 158/200\n",
      "6/6 [==============================] - 0s 7ms/step - loss: 0.7626 - accuracy: 0.7083 - val_loss: 1.0371 - val_accuracy: 0.7143\n",
      "Epoch 159/200\n",
      "6/6 [==============================] - 0s 7ms/step - loss: 0.7607 - accuracy: 0.7143 - val_loss: 1.0359 - val_accuracy: 0.7143\n"
     ]
    }
   ],
   "source": [
    "\n",
    "# Fit the model\n",
    "history = glass_model.fit(X_train,\n",
    "                                one_hot_y_train,\n",
    "                                epochs=200,\n",
    "                                validation_data=(X_test, one_hot_y_test),\n",
    "                               callbacks=[early_stopping]\n",
    "                               ) "
   ]
  },
  {
   "cell_type": "code",
   "execution_count": 349,
   "id": "5872a9bc",
   "metadata": {},
   "outputs": [],
   "source": [
    "# Plot the validation and training data loss curves separately\n",
    "def plot_loss_curves(history):\n",
    "  \"\"\"\n",
    "  Returns separate loss curves for training and validation metrics.\n",
    "  \"\"\" \n",
    "  loss = history.history['loss']\n",
    "  val_loss = history.history['val_loss']\n",
    "\n",
    "  accuracy = history.history['accuracy']\n",
    "  val_accuracy = history.history['val_accuracy']\n",
    "\n",
    "  epochs = range(len(history.history['loss']))\n",
    "\n",
    "  # Plot loss\n",
    "  plt.plot(epochs, loss, label='training_loss')\n",
    "  plt.plot(epochs, val_loss, label='val_loss')\n",
    "  plt.title('Loss')\n",
    "  plt.xlabel('Epochs')\n",
    "  plt.legend()\n",
    "\n",
    "  # Plot accuracy\n",
    "  plt.figure()\n",
    "  plt.plot(epochs, accuracy, label='training_accuracy')\n",
    "  plt.plot(epochs, val_accuracy, label='val_accuracy')\n",
    "  plt.title('Accuracy')\n",
    "  plt.xlabel('Epochs')\n",
    "  plt.legend();"
   ]
  },
  {
   "cell_type": "code",
   "execution_count": 350,
   "id": "5e6b14ac",
   "metadata": {},
   "outputs": [],
   "source": [
    "# training and validation accuracy and loss curves track well with minimal overfitting, more data will improve the model here"
   ]
  },
  {
   "cell_type": "code",
   "execution_count": 351,
   "id": "417b6ef3",
   "metadata": {},
   "outputs": [
    {
     "data": {
      "image/png": "[encoded data removed]",
      "text/plain": [
       "<Figure size 432x288 with 1 Axes>"
      ]
     },
     "metadata": {
      "needs_background": "light"
     },
     "output_type": "display_data"
    },
    {
     "data": {
      "image/png": "[encoded data removed]",
      "text/plain": [
       "<Figure size 432x288 with 1 Axes>"
      ]
     },
     "metadata": {
      "needs_background": "light"
     },
     "output_type": "display_data"
    }
   ],
   "source": [
    "plot_loss_curves(non_norm_history)"
   ]
  },
  {
   "cell_type": "markdown",
   "id": "2ef7e239",
   "metadata": {},
   "source": [
    "## Conclusion Part 3\n",
    "Discussion of findings and final rational for choosing Random Forest classification algorithm\n",
    "\n",
    "1. Various machine learning models were used including one Artificial Neural Network \n",
    "\n",
    "\n",
    "\n",
    "2. The models were evaluated with stratified 3-fold cross validation to get a balanced sample of test data, 3 folds were chosen due to small dataset size\n",
    "\n",
    "\n",
    "\n",
    "3. Random Forest Algorithm showed the highest accuracy at 83.9% while others were in the 50-60's in cross validation by a significant margin and was chosen as the candidate"
   ]
  },
  {
   "cell_type": "markdown",
   "id": "3ae10684",
   "metadata": {},
   "source": [
    "# PART 4 FINAL CLASSIFICATION\n",
    "Making a classification on the test data, using your hyperparameter optimized Random Forest classification algorithm "
   ]
  },
  {
   "cell_type": "code",
   "execution_count": 352,
   "id": "fd229c51",
   "metadata": {},
   "outputs": [],
   "source": [
    "#hyper parameter optimization"
   ]
  },
  {
   "cell_type": "code",
   "execution_count": 353,
   "id": "97a67241",
   "metadata": {
    "scrolled": true
   },
   "outputs": [
    {
     "name": "stdout",
     "output_type": "stream",
     "text": [
      "Parameters currently in use:\n",
      "\n",
      "{'bootstrap': True, 'ccp_alpha': 0.0, 'criterion': 'squared_error', 'max_depth': None, 'max_features': 'auto', 'max_leaf_nodes': None, 'max_samples': None, 'min_impurity_decrease': 0.0, 'min_samples_leaf': 1, 'min_samples_split': 2, 'min_weight_fraction_leaf': 0.0, 'n_estimators': 100, 'n_jobs': None, 'oob_score': False, 'random_state': 42, 'verbose': 0, 'warm_start': False}\n"
     ]
    }
   ],
   "source": [
    "from sklearn.ensemble import RandomForestRegressor\n",
    "rf = RandomForestRegressor(random_state = 42)\n",
    "print('Parameters currently in use:\\n')\n",
    "print(rf.get_params())"
   ]
  },
  {
   "cell_type": "code",
   "execution_count": 354,
   "id": "28046396",
   "metadata": {},
   "outputs": [
    {
     "name": "stdout",
     "output_type": "stream",
     "text": [
      "{'n_estimators': [5, 10, 15, 20, 25, 30, 35, 40, 45, 50, 55, 60, 65, 70, 75, 80, 85, 90, 95, 100, 105, 110, 115, 120, 125, 130, 135, 140, 145, 150, 155, 160, 165, 170, 175, 180, 185, 190, 195, 200, 205, 210, 215, 220, 225, 230, 235, 240, 245, 250, 255, 260, 265, 270, 275, 280, 285, 290, 295, 300, 305, 310, 315, 320, 325, 330, 335, 340, 345, 350, 355, 360, 365, 370, 375, 380, 385, 390, 395, 400, 405, 410, 415, 420, 425, 430, 435, 440, 445, 450, 455, 460, 465, 470, 475, 480, 485, 490, 495], 'max_features': ['auto', 'sqrt'], 'max_depth': [10, 15, 20, 25, 30, 35, 40, 45, 50, 55, 60, 65, 70, 75, 80, 85, 90, 95, 100, 105, None], 'min_samples_split': [2, 5, 10], 'min_samples_leaf': [1, 2, 4], 'bootstrap': [True, False]}\n"
     ]
    }
   ],
   "source": [
    "from sklearn.model_selection import RandomizedSearchCV# Number of trees in random forest\n",
    "#n_estimators = [int(x) for x in np.linspace(start = 5, stop = 500, num = 20)]\n",
    "n_estimators=np.arange(5,500,5).tolist()\n",
    "# Number of features to consider at every split\n",
    "max_features = ['auto', 'sqrt']\n",
    "# Maximum number of levels in tree\n",
    "max_depth = np.arange(10,110,5).tolist()\n",
    "max_depth.append(None)\n",
    "# Minimum number of samples required to split a node\n",
    "min_samples_split = [2, 5, 10]\n",
    "# Minimum number of samples required at each leaf node\n",
    "min_samples_leaf = [1, 2, 4]\n",
    "# Method of selecting samples for training each tree\n",
    "bootstrap = [True, False]# Create the random grid\n",
    "random_grid = {'n_estimators': n_estimators,\n",
    "               'max_features': max_features,\n",
    "               'max_depth': max_depth,\n",
    "               'min_samples_split': min_samples_split,\n",
    "               'min_samples_leaf': min_samples_leaf,\n",
    "               'bootstrap': bootstrap}\n",
    "print(random_grid)"
   ]
  },
  {
   "cell_type": "code",
   "execution_count": 355,
   "id": "8a3028b1",
   "metadata": {},
   "outputs": [
    {
     "name": "stdout",
     "output_type": "stream",
     "text": [
      "Fitting 3 folds for each of 100 candidates, totalling 300 fits\n"
     ]
    },
    {
     "data": {
      "text/plain": [
       "RandomizedSearchCV(cv=3, estimator=RandomForestRegressor(), n_iter=100,\n",
       "                   n_jobs=-1,\n",
       "                   param_distributions={'bootstrap': [True, False],\n",
       "                                        'max_depth': [10, 15, 20, 25, 30, 35,\n",
       "                                                      40, 45, 50, 55, 60, 65,\n",
       "                                                      70, 75, 80, 85, 90, 95,\n",
       "                                                      100, 105, None],\n",
       "                                        'max_features': ['auto', 'sqrt'],\n",
       "                                        'min_samples_leaf': [1, 2, 4],\n",
       "                                        'min_samples_split': [2, 5, 10],\n",
       "                                        'n_estimators': [5, 10, 15, 20, 25, 30,\n",
       "                                                         35, 40, 45, 50, 55, 60,\n",
       "                                                         65, 70, 75, 80, 85, 90,\n",
       "                                                         95, 100, 105, 110, 115,\n",
       "                                                         120, 125, 130, 135,\n",
       "                                                         140, 145, 150, ...]},\n",
       "                   random_state=42, verbose=2)"
      ]
     },
     "execution_count": 355,
     "metadata": {},
     "output_type": "execute_result"
    }
   ],
   "source": [
    "# Use the random grid to search for best hyperparameters\n",
    "# First create the base model to tune\n",
    "rf = RandomForestRegressor()\n",
    "# Random search of parameters, using 3 fold cross validation, \n",
    "# search across 100 different combinations, and use all available cores\n",
    "rf_random = RandomizedSearchCV(estimator = rf, param_distributions = random_grid, n_iter = 100, cv = 3, verbose=2, random_state=42, n_jobs = -1)# Fit the random search model\n",
    "rf_random.fit(X_train, y_train)"
   ]
  },
  {
   "cell_type": "code",
   "execution_count": 356,
   "id": "0c81f9e3",
   "metadata": {},
   "outputs": [],
   "source": [
    "#best parameters"
   ]
  },
  {
   "cell_type": "code",
   "execution_count": 357,
   "id": "06905b23",
   "metadata": {},
   "outputs": [
    {
     "data": {
      "text/plain": [
       "{'n_estimators': 375,\n",
       " 'min_samples_split': 2,\n",
       " 'min_samples_leaf': 1,\n",
       " 'max_features': 'sqrt',\n",
       " 'max_depth': 15,\n",
       " 'bootstrap': True}"
      ]
     },
     "execution_count": 357,
     "metadata": {},
     "output_type": "execute_result"
    }
   ],
   "source": [
    "bp=rf_random.best_params_\n",
    "bp"
   ]
  },
  {
   "cell_type": "code",
   "execution_count": 358,
   "id": "e10f15da",
   "metadata": {},
   "outputs": [],
   "source": [
    "#fit the rf model on the best parameters"
   ]
  },
  {
   "cell_type": "code",
   "execution_count": 359,
   "id": "2d015721",
   "metadata": {},
   "outputs": [
    {
     "data": {
      "text/plain": [
       "RandomForestClassifier(criterion='entropy', max_depth=15, max_features='sqrt',\n",
       "                       n_estimators=375, random_state=0)"
      ]
     },
     "execution_count": 359,
     "metadata": {},
     "output_type": "execute_result"
    }
   ],
   "source": [
    "from sklearn.ensemble import RandomForestClassifier\n",
    "classifier = RandomForestClassifier(n_estimators = bp.get('n_estimators'), random_state = 0,\n",
    "                                    criterion= 'entropy',\n",
    "                                   min_samples_split=bp.get('min_samples_split'),\n",
    "                                   min_samples_leaf=bp.get('min_samples_leaf'),\n",
    "                                   max_features=bp.get('max_features'),\n",
    "                                   max_depth=bp.get('max_depth'),\n",
    "                                   bootstrap=bp.get('bootstrap'))\n",
    "classifier.fit(X_train, y_train)"
   ]
  },
  {
   "cell_type": "code",
   "execution_count": 360,
   "id": "fbedce3e",
   "metadata": {},
   "outputs": [],
   "source": [
    "from sklearn.metrics import confusion_matrix, accuracy_score"
   ]
  },
  {
   "cell_type": "code",
   "execution_count": 361,
   "id": "6b5f5db5",
   "metadata": {},
   "outputs": [],
   "source": [
    "#training accuracy 100%~shows overfitting"
   ]
  },
  {
   "cell_type": "code",
   "execution_count": 362,
   "id": "ea76a94c",
   "metadata": {},
   "outputs": [
    {
     "name": "stdout",
     "output_type": "stream",
     "text": [
      "[[55  0  0  0  0  0]\n",
      " [ 0 61  0  0  0  0]\n",
      " [ 0  0 14  0  0  0]\n",
      " [ 0  0  0  9  0  0]\n",
      " [ 0  0  0  0  7  0]\n",
      " [ 0  0  0  0  0 22]]\n",
      "Accuracy train:  1.0\n"
     ]
    }
   ],
   "source": [
    "training_acc=classifier.predict(X_train)\n",
    "cm = confusion_matrix(y_train, training_acc)\n",
    "print(cm)\n",
    "print(\"Accuracy train: \", accuracy_score(y_train, training_acc))"
   ]
  },
  {
   "cell_type": "code",
   "execution_count": 363,
   "id": "736f5a59",
   "metadata": {},
   "outputs": [],
   "source": [
    "#test set accuracy"
   ]
  },
  {
   "cell_type": "code",
   "execution_count": 364,
   "id": "e975b8a5",
   "metadata": {},
   "outputs": [],
   "source": [
    "y_pred = classifier.predict(X_test)"
   ]
  },
  {
   "cell_type": "code",
   "execution_count": 365,
   "id": "c4de6d26",
   "metadata": {},
   "outputs": [
    {
     "name": "stdout",
     "output_type": "stream",
     "text": [
      "[[13  0  1  0  0  0]\n",
      " [ 3 10  1  0  1  0]\n",
      " [ 0  0  3  0  0  0]\n",
      " [ 0  0  0  1  0  1]\n",
      " [ 0  0  0  0  2  0]\n",
      " [ 1  0  0  0  0  5]]\n"
     ]
    },
    {
     "data": {
      "text/plain": [
       "0.8095238095238095"
      ]
     },
     "execution_count": 365,
     "metadata": {},
     "output_type": "execute_result"
    }
   ],
   "source": [
    "from sklearn.metrics import confusion_matrix, accuracy_score\n",
    "cm = confusion_matrix(y_test, y_pred)\n",
    "print(cm)\n",
    "accuracy_score(y_test, y_pred)"
   ]
  },
  {
   "cell_type": "code",
   "execution_count": 366,
   "id": "bcff03f5",
   "metadata": {},
   "outputs": [],
   "source": [
    "# a better confusion matrix will reveal more information here, credits for the function below"
   ]
  },
  {
   "cell_type": "code",
   "execution_count": 367,
   "id": "5169f2a1",
   "metadata": {},
   "outputs": [],
   "source": [
    "# Note: The following confusion matrix code is a remix of Scikit-Learn's \n",
    "# plot_confusion_matrix function - https://scikit-learn.org/stable/modules/generated/sklearn.metrics.plot_confusion_matrix.html\n",
    "# and Made with ML's introductory notebook - https://github.com/GokuMohandas/MadeWithML/blob/main/notebooks/08_Neural_Networks.ipynb\n",
    "import itertools\n",
    "from sklearn.metrics import confusion_matrix\n",
    "\n",
    "# Our function needs a different name to sklearn's plot_confusion_matrix\n",
    "def make_confusion_matrix(y_true, y_pred, classes=None, figsize=(10, 10), text_size=15): \n",
    "  \"\"\"Makes a labelled confusion matrix comparing predictions and ground truth labels.\n",
    "\n",
    "  If classes is passed, confusion matrix will be labelled, if not, integer class values\n",
    "  will be used.\n",
    "\n",
    "  Args:\n",
    "    y_true: Array of truth labels (must be same shape as y_pred).\n",
    "    y_pred: Array of predicted labels (must be same shape as y_true).\n",
    "    classes: Array of class labels (e.g. string form). If `None`, integer labels are used.\n",
    "    figsize: Size of output figure (default=(10, 10)).\n",
    "    text_size: Size of output figure text (default=15).\n",
    "  \n",
    "  Returns:\n",
    "    A labelled confusion matrix plot comparing y_true and y_pred.\n",
    "\n",
    "  Example usage:\n",
    "    make_confusion_matrix(y_true=test_labels, # ground truth test labels\n",
    "                          y_pred=y_preds, # predicted labels\n",
    "                          classes=class_names, # array of class label names\n",
    "                          figsize=(15, 15),\n",
    "                          text_size=10)\n",
    "  \"\"\"  \n",
    "  # Create the confustion matrix\n",
    "  cm = confusion_matrix(y_true, y_pred)\n",
    "  cm_norm = cm.astype(\"float\") / cm.sum(axis=1)[:, np.newaxis] # normalize it\n",
    "  n_classes = cm.shape[0] # find the number of classes we're dealing with\n",
    "\n",
    "  # Plot the figure and make it pretty\n",
    "  fig, ax = plt.subplots(figsize=figsize)\n",
    "  cax = ax.matshow(cm, cmap=plt.cm.Blues) # colors will represent how 'correct' a class is, darker == better\n",
    "  fig.colorbar(cax)\n",
    "\n",
    "  # Are there a list of classes?\n",
    "  if classes:\n",
    "    labels = classes\n",
    "  else:\n",
    "    labels = np.arange(cm.shape[0])\n",
    "  \n",
    "  # Label the axes\n",
    "  ax.set(title=\"Confusion Matrix\",\n",
    "         xlabel=\"Predicted label\",\n",
    "         ylabel=\"True label\",\n",
    "         xticks=np.arange(n_classes), # create enough axis slots for each class\n",
    "         yticks=np.arange(n_classes), \n",
    "         xticklabels=labels, # axes will labeled with class names (if they exist) or ints\n",
    "         yticklabels=labels)\n",
    "  \n",
    "  # Make x-axis labels appear on bottom\n",
    "  ax.xaxis.set_label_position(\"bottom\")\n",
    "  ax.xaxis.tick_bottom()\n",
    "\n",
    "  #rotate diagonally to make labels visible\n",
    "  ax.set_xticklabels(classes, rotation = 45)\n",
    "\n",
    "  # Set the threshold for different colors\n",
    "  threshold = (cm.max() + cm.min()) / 2.\n",
    "\n",
    "  # Plot the text on each cell\n",
    "  for i, j in itertools.product(range(cm.shape[0]), range(cm.shape[1])):\n",
    "    plt.text(j, i, f\"{cm[i, j]} ({cm_norm[i, j]*100:.1f}%)\",\n",
    "             horizontalalignment=\"center\",\n",
    "             color=\"white\" if cm[i, j] > threshold else \"black\",\n",
    "             size=text_size)"
   ]
  },
  {
   "cell_type": "code",
   "execution_count": 368,
   "id": "8f5c5c7d",
   "metadata": {},
   "outputs": [
    {
     "data": {
      "text/plain": [
       "['building_windows_float_processed',\n",
       " 'building_windows_non_float_processed',\n",
       " 'vehicle_windows_float_processed',\n",
       " 'containers',\n",
       " 'tableware',\n",
       " 'headlamps']"
      ]
     },
     "execution_count": 368,
     "metadata": {},
     "output_type": "execute_result"
    }
   ],
   "source": [
    "labels"
   ]
  },
  {
   "cell_type": "code",
   "execution_count": 369,
   "id": "02851b52",
   "metadata": {},
   "outputs": [
    {
     "data": {
      "image/png": "[encoded data removed]",
      "text/plain": [
       "<Figure size 1440x1440 with 2 Axes>"
      ]
     },
     "metadata": {
      "needs_background": "light"
     },
     "output_type": "display_data"
    }
   ],
   "source": [
    "make_confusion_matrix(y_test, y_pred, classes=labels, figsize=(20, 20), text_size=15)"
   ]
  },
  {
   "cell_type": "markdown",
   "id": "eebe3b1b",
   "metadata": {},
   "source": [
    "## Conclusion Part 4\n",
    "comments on the accuracy differential between the training and testing set\n",
    "\n",
    "1. Hyperparameter optimization was done on the chosen candidate Random Forest Classifier showed marginal improvement 83-85%~ accuracy on the stratified test data\n",
    "\n",
    "\n",
    "2. the model was able to achieve 100%accuracy on the training data this shows overfitting of the train data possibly due to the overall small size of the dataset and high correlation between the features\n",
    "\n",
    "\n",
    "3. confusion matrix shows high confusion on the building windows float_processed -> non_float_processed category but otherwise generally good performance, the dataset is highly learnable and more data would likely siginificantly improve predictive accuracy"
   ]
  },
  {
   "cell_type": "code",
   "execution_count": null,
   "id": "5a920417",
   "metadata": {},
   "outputs": [],
   "source": []
  },
  {
   "cell_type": "code",
   "execution_count": null,
   "id": "98a9432e",
   "metadata": {},
   "outputs": [],
   "source": []
  },
  {
   "cell_type": "code",
   "execution_count": null,
   "id": "b148ebed",
   "metadata": {},
   "outputs": [],
   "source": []
  },
  {
   "cell_type": "code",
   "execution_count": null,
   "id": "9ee9cda9",
   "metadata": {},
   "outputs": [],
   "source": []
  }
 ],
 "metadata": {
  "kernelspec": {
   "display_name": "Python 3",
   "language": "python",
   "name": "python3"
  },
  "language_info": {
   "codemirror_mode": {
    "name": "ipython",
    "version": 3
   },
   "file_extension": ".py",
   "mimetype": "text/x-python",
   "name": "python",
   "nbconvert_exporter": "python",
   "pygments_lexer": "ipython3",
   "version": "3.8.8"
  }
 },
 "nbformat": 4,
 "nbformat_minor": 5
}
